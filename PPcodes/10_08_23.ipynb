{
 "cells": [
  {
   "cell_type": "code",
   "execution_count": 2,
   "metadata": {},
   "outputs": [],
   "source": [
    "import numpy as np\n",
    "import pandas as pd"
   ]
  },
  {
   "cell_type": "code",
   "execution_count": 15,
   "metadata": {},
   "outputs": [
    {
     "name": "stdout",
     "output_type": "stream",
     "text": [
      "[[0 0 0 0 0 0 0 0 0 0]\n",
      " [0 0 0 0 0 0 0 0 0 0]\n",
      " [0 0 0 0 0 0 0 0 0 0]\n",
      " [0 0 0 0 0 0 0 0 0 0]\n",
      " [0 0 0 0 0 0 0 0 0 0]\n",
      " [0 0 0 0 0 0 0 0 0 0]\n",
      " [0 0 0 0 0 0 0 0 0 0]\n",
      " [0 0 0 0 0 0 0 0 0 0]\n",
      " [0 0 0 0 0 0 0 0 0 0]\n",
      " [0 0 0 0 0 0 0 0 0 0]]\n",
      "[[1 0 1 0 1 0 1 0 1 0]\n",
      " [0 1 0 1 0 1 0 1 0 1]\n",
      " [1 0 1 0 1 0 1 0 1 0]\n",
      " [0 1 0 1 0 1 0 1 0 1]\n",
      " [1 0 1 0 1 0 1 0 1 0]\n",
      " [0 1 0 1 0 1 0 1 0 1]\n",
      " [1 0 1 0 1 0 1 0 1 0]\n",
      " [0 1 0 1 0 1 0 1 0 1]\n",
      " [1 0 1 0 1 0 1 0 1 0]\n",
      " [0 1 0 1 0 1 0 1 0 1]]\n"
     ]
    }
   ],
   "source": [
    "arr = np.zeros((10,10),dtype=np.int32)\n",
    "print(arr)\n",
    "arr[::2,::2] = 1\n",
    "arr[1::2,1::2] = 1\n",
    "print(arr)"
   ]
  }
 ],
 "metadata": {
  "kernelspec": {
   "display_name": ".venv",
   "language": "python",
   "name": "python3"
  },
  "language_info": {
   "codemirror_mode": {
    "name": "ipython",
    "version": 3
   },
   "file_extension": ".py",
   "mimetype": "text/x-python",
   "name": "python",
   "nbconvert_exporter": "python",
   "pygments_lexer": "ipython3",
   "version": "3.10.12"
  },
  "orig_nbformat": 4
 },
 "nbformat": 4,
 "nbformat_minor": 2
}
