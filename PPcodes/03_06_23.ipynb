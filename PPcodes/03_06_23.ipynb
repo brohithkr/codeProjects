{
 "cells": [
  {
   "cell_type": "code",
   "execution_count": 1,
   "metadata": {},
   "outputs": [],
   "source": [
    "import re"
   ]
  },
  {
   "cell_type": "code",
   "execution_count": 30,
   "metadata": {},
   "outputs": [
    {
     "name": "stdout",
     "output_type": "stream",
     "text": [
      "False\n"
     ]
    }
   ],
   "source": [
    "def isValidPass(s):\n",
    "    isCap = False\n",
    "    isSmall = False\n",
    "    isNum = False\n",
    "    isSpecial = False\n",
    "    for i in s:\n",
    "        if ord('a')<=ord(i)<=ord('z'):\n",
    "            isSmall=True\n",
    "        if ord('A')<=ord(i)<=ord('Z'):\n",
    "            isCap=True\n",
    "        if ord('0')<=ord(i)<=ord('9'):\n",
    "            isNum = True\n",
    "        if i in ['*','@','$']:\n",
    "            isSpecial = True\n",
    "        else:\n",
    "            return False\n",
    "    return (isCap and isSmall and isNum and isSpecial and (8<=len(s)<=15))\n",
    "\n",
    "\n",
    "print(isValidPass(input()))\n",
    "\n",
    "\n",
    "\n"
   ]
  },
  {
   "cell_type": "code",
   "execution_count": 17,
   "metadata": {},
   "outputs": [
    {
     "name": "stdout",
     "output_type": "stream",
     "text": [
      "<re.Match object; span=(6, 8), match='12'>\n"
     ]
    }
   ],
   "source": [
    "s = 'HelloW123'\n",
    "print((re.search(r'[a-zA-Z0-9]',s) and re.search(,)))"
   ]
  },
  {
   "cell_type": "code",
   "execution_count": 32,
   "metadata": {},
   "outputs": [
    {
     "ename": "TypeError",
     "evalue": "unsupported operand type(s) for +: 'list_reverseiterator' and 'list'",
     "output_type": "error",
     "traceback": [
      "\u001b[0;31m---------------------------------------------------------------------------\u001b[0m",
      "\u001b[0;31mTypeError\u001b[0m                                 Traceback (most recent call last)",
      "Cell \u001b[0;32mIn[32], line 4\u001b[0m\n\u001b[1;32m      1\u001b[0m l \u001b[39m=\u001b[39m \u001b[39mlist\u001b[39m(\u001b[39mmap\u001b[39m(\u001b[39mint\u001b[39m,\u001b[39minput\u001b[39m()\u001b[39m.\u001b[39msplit()))\n\u001b[1;32m      2\u001b[0m s \u001b[39m=\u001b[39m \u001b[39mlist\u001b[39m(\u001b[39mmap\u001b[39m(\u001b[39mint\u001b[39m,\u001b[39minput\u001b[39m()\u001b[39m.\u001b[39msplit()))\n\u001b[0;32m----> 4\u001b[0m \u001b[39mprint\u001b[39m(\u001b[39mreversed\u001b[39;49m(s)\u001b[39m+\u001b[39;49ml)\n",
      "\u001b[0;31mTypeError\u001b[0m: unsupported operand type(s) for +: 'list_reverseiterator' and 'list'"
     ]
    }
   ],
   "source": [
    "l = list(map(int,input().split()))\n",
    "s = list(map(int,input().split()))\n",
    "\n"
   ]
  }
 ],
 "metadata": {
  "kernelspec": {
   "display_name": "Python 3",
   "language": "python",
   "name": "python3"
  },
  "language_info": {
   "codemirror_mode": {
    "name": "ipython",
    "version": 3
   },
   "file_extension": ".py",
   "mimetype": "text/x-python",
   "name": "python",
   "nbconvert_exporter": "python",
   "pygments_lexer": "ipython3",
   "version": "3.10.6"
  },
  "orig_nbformat": 4
 },
 "nbformat": 4,
 "nbformat_minor": 2
}
