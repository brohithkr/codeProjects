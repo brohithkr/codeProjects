{
 "cells": [
  {
   "cell_type": "markdown",
   "metadata": {},
   "source": [
    "2"
   ]
  },
  {
   "cell_type": "markdown",
   "metadata": {},
   "source": [
    "a) Write a program that prints the numbers from 1 to 100. But for multiples of three print “Fizz” instead\n",
    "of the number and for the multiples of five print ―Buzz‖. For numbers which are multiples of both three\n",
    "and five print."
   ]
  },
  {
   "cell_type": "code",
   "execution_count": 2,
   "metadata": {},
   "outputs": [
    {
     "name": "stdout",
     "output_type": "stream",
     "text": [
      "1\n",
      "2\n",
      "fizz\n",
      "4\n",
      "buzz\n",
      "fizz\n",
      "7\n",
      "8\n",
      "fizz\n",
      "buzz\n",
      "11\n",
      "fizz\n",
      "13\n",
      "14\n",
      "fizzbuzz\n",
      "16\n",
      "17\n",
      "fizz\n",
      "19\n",
      "buzz\n",
      "fizz\n",
      "22\n",
      "23\n",
      "fizz\n",
      "buzz\n",
      "26\n",
      "fizz\n",
      "28\n",
      "29\n",
      "fizzbuzz\n",
      "31\n",
      "32\n",
      "fizz\n",
      "34\n",
      "buzz\n",
      "fizz\n",
      "37\n",
      "38\n",
      "fizz\n",
      "buzz\n",
      "41\n",
      "fizz\n",
      "43\n",
      "44\n",
      "fizzbuzz\n",
      "46\n",
      "47\n",
      "fizz\n",
      "49\n",
      "buzz\n",
      "fizz\n",
      "52\n",
      "53\n",
      "fizz\n",
      "buzz\n",
      "56\n",
      "fizz\n",
      "58\n",
      "59\n",
      "fizzbuzz\n",
      "61\n",
      "62\n",
      "fizz\n",
      "64\n",
      "buzz\n",
      "fizz\n",
      "67\n",
      "68\n",
      "fizz\n",
      "buzz\n",
      "71\n",
      "fizz\n",
      "73\n",
      "74\n",
      "fizzbuzz\n",
      "76\n",
      "77\n",
      "fizz\n",
      "79\n",
      "buzz\n",
      "fizz\n",
      "82\n",
      "83\n",
      "fizz\n",
      "buzz\n",
      "86\n",
      "fizz\n",
      "88\n",
      "89\n",
      "fizzbuzz\n",
      "91\n",
      "92\n",
      "fizz\n",
      "94\n",
      "buzz\n",
      "fizz\n",
      "97\n",
      "98\n",
      "fizz\n"
     ]
    }
   ],
   "source": [
    "for i in range(1,100):\n",
    "    res = ''\n",
    "    if i%3==0:\n",
    "        res+='fizz'\n",
    "    if i%5==0:\n",
    "        res+='buzz'\n",
    "    if res=='':\n",
    "        res+=str(i)\n",
    "    print(res)\n"
   ]
  },
  {
   "attachments": {},
   "cell_type": "markdown",
   "metadata": {},
   "source": [
    "b) Write a program to check whether a given positive number is a Harshad Number or not. A Harshad\n",
    "number is an integer that is divisible by the sum of its digits. For example, 171 is a Harshad Number\n",
    "because the sum of digits is 9(1+7+1) and 171 is divisible by 9."
   ]
  },
  {
   "cell_type": "code",
   "execution_count": null,
   "metadata": {},
   "outputs": [],
   "source": [
    "n = input()\n",
    "sum = 0\n",
    "for i in n:\n",
    "    sum+=int(i)\n",
    "if int(n)%sum==0:\n",
    "    print(\"Harshad Number\")\n",
    "else:\n",
    "    print(\"Not Harshad Number\")\n"
   ]
  },
  {
   "attachments": {},
   "cell_type": "markdown",
   "metadata": {},
   "source": [
    "c) Given a number n, write an efficient function to print all unique prime factors of n. For example, if\n",
    "the input number is 315, then output should be \"3 5 7\"."
   ]
  },
  {
   "cell_type": "code",
   "execution_count": 11,
   "metadata": {},
   "outputs": [
    {
     "name": "stdout",
     "output_type": "stream",
     "text": [
      "{3}\n"
     ]
    }
   ],
   "source": [
    "def isprime(n):\n",
    "    isprime = True\n",
    "    for i in range(2,int(n**0.5)+1):\n",
    "        if n%i==0:\n",
    "            isprime = False\n",
    "            break\n",
    "    return isprime\n",
    "\n",
    "def primeFactor(n):\n",
    "    lst = []\n",
    "    for i in range(2,int(n**0.5)+1):\n",
    "        if n%i==0:\n",
    "            if isprime(i):\n",
    "                lst.append(i)\n",
    "                if isprime(n/i):\n",
    "                    lst.append(int(n/i))\n",
    "    return lst\n",
    "\n",
    "n = int(input())\n",
    "print(set(primeFactor(n)))\n"
   ]
  },
  {
   "attachments": {},
   "cell_type": "markdown",
   "metadata": {},
   "source": [
    "d) A semiprime number is an integer which can be expressed as a product of two distinct primes. For\n",
    "example, 15\n",
    "=\n",
    "3*5\n",
    "is\n",
    "a\n",
    "semiprime\n",
    "number\n",
    "but\n",
    "9\n",
    "=\n",
    "3*3\n",
    "is\n",
    "not.\n",
    "Given an integer number N, find whether it can be expressed as a sum of two semi-primes or not (not\n",
    "necessarily distinct)."
   ]
  }
 ],
 "metadata": {
  "kernelspec": {
   "display_name": "aiml",
   "language": "python",
   "name": "python3"
  },
  "language_info": {
   "codemirror_mode": {
    "name": "ipython",
    "version": 3
   },
   "file_extension": ".py",
   "mimetype": "text/x-python",
   "name": "python",
   "nbconvert_exporter": "python",
   "pygments_lexer": "ipython3",
   "version": "3.10.6"
  },
  "orig_nbformat": 4
 },
 "nbformat": 4,
 "nbformat_minor": 2
}
