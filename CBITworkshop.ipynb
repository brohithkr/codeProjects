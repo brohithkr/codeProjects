{
 "cells": [
  {
   "cell_type": "code",
   "execution_count": 7,
   "metadata": {},
   "outputs": [],
   "source": [
    "import pandas as pd\n",
    "import numpy as np"
   ]
  },
  {
   "cell_type": "code",
   "execution_count": 59,
   "metadata": {},
   "outputs": [
    {
     "name": "stdout",
     "output_type": "stream",
     "text": [
      "0    False\n",
      "1    False\n",
      "2    False\n",
      "3     True\n",
      "4     True\n",
      "5     True\n",
      "6     True\n",
      "7     True\n",
      "8     True\n",
      "9     True\n",
      "dtype: bool\n"
     ]
    }
   ],
   "source": [
    "arr = [1,2,3,4,5,6]\n",
    "nparr = np.arange(10,30,2).astype(np.float64)\n",
    "nparr2 = nparr.astype(np.string_)\n",
    "s = pd.Series(nparr)\n",
    "# s[s==12] = 0\n",
    "print(s>=16)"
   ]
  },
  {
   "cell_type": "code",
   "execution_count": 63,
   "metadata": {},
   "outputs": [
    {
     "data": {
      "text/plain": [
       "0      0\n",
       "1      2\n",
       "2      4\n",
       "3      6\n",
       "4      8\n",
       "5     10\n",
       "6     12\n",
       "7     14\n",
       "8     16\n",
       "9     18\n",
       "10    20\n",
       "11    22\n",
       "12    24\n",
       "13    26\n",
       "14    28\n",
       "Name: evens, dtype: int64"
      ]
     },
     "execution_count": 63,
     "metadata": {},
     "output_type": "execute_result"
    }
   ],
   "source": [
    "nums = np.arange(30)\n",
    "\n",
    "evens = nums[nums%2==0]\n",
    "odds  = nums[nums%2==1]\n",
    "# print(evens)\n",
    "\n",
    "df = pd.DataFrame({\n",
    "    'evens' : evens,\n",
    "    'odds' : odds\n",
    "})\n",
    "\n",
    "df['evens']"
   ]
  },
  {
   "cell_type": "code",
   "execution_count": 52,
   "metadata": {},
   "outputs": [
    {
     "data": {
      "text/html": [
       "<div>\n",
       "<style scoped>\n",
       "    .dataframe tbody tr th:only-of-type {\n",
       "        vertical-align: middle;\n",
       "    }\n",
       "\n",
       "    .dataframe tbody tr th {\n",
       "        vertical-align: top;\n",
       "    }\n",
       "\n",
       "    .dataframe thead th {\n",
       "        text-align: right;\n",
       "    }\n",
       "</style>\n",
       "<table border=\"1\" class=\"dataframe\">\n",
       "  <thead>\n",
       "    <tr style=\"text-align: right;\">\n",
       "      <th></th>\n",
       "      <th>states</th>\n",
       "      <th>capital</th>\n",
       "      <th>population</th>\n",
       "      <th>debt</th>\n",
       "    </tr>\n",
       "  </thead>\n",
       "  <tbody>\n",
       "    <tr>\n",
       "      <th>1</th>\n",
       "      <td>Agrabah</td>\n",
       "      <td>Zarbadast</td>\n",
       "      <td>1234567</td>\n",
       "      <td>12345</td>\n",
       "    </tr>\n",
       "    <tr>\n",
       "      <th>2</th>\n",
       "      <td>Arendelle</td>\n",
       "      <td>Elsaabad</td>\n",
       "      <td>2345678</td>\n",
       "      <td>23456</td>\n",
       "    </tr>\n",
       "    <tr>\n",
       "      <th>3</th>\n",
       "      <td>Corona</td>\n",
       "      <td>Rapunzelgarh</td>\n",
       "      <td>3456789</td>\n",
       "      <td>34567</td>\n",
       "    </tr>\n",
       "    <tr>\n",
       "      <th>4</th>\n",
       "      <td>DunBroch</td>\n",
       "      <td>Meridapura</td>\n",
       "      <td>4567890</td>\n",
       "      <td>45678</td>\n",
       "    </tr>\n",
       "    <tr>\n",
       "      <th>5</th>\n",
       "      <td>Enchancia</td>\n",
       "      <td>Sofia Nagar</td>\n",
       "      <td>5678901</td>\n",
       "      <td>56789</td>\n",
       "    </tr>\n",
       "    <tr>\n",
       "      <th>6</th>\n",
       "      <td>Genovia</td>\n",
       "      <td>Mia Town</td>\n",
       "      <td>6789012</td>\n",
       "      <td>67890</td>\n",
       "    </tr>\n",
       "  </tbody>\n",
       "</table>\n",
       "</div>"
      ],
      "text/plain": [
       "      states       capital  population   debt\n",
       "1    Agrabah     Zarbadast     1234567  12345\n",
       "2  Arendelle      Elsaabad     2345678  23456\n",
       "3     Corona  Rapunzelgarh     3456789  34567\n",
       "4   DunBroch    Meridapura     4567890  45678\n",
       "5  Enchancia   Sofia Nagar     5678901  56789\n",
       "6    Genovia      Mia Town     6789012  67890"
      ]
     },
     "execution_count": 52,
     "metadata": {},
     "output_type": "execute_result"
    }
   ],
   "source": [
    "data = {\n",
    "    'states':['Agrabah','Arendelle','Corona','DunBroch','Enchancia','Genovia'],\n",
    "    'capital':['Zarbadast','Elsaabad','Rapunzelgarh','Meridapura','Sofia Nagar','Mia Town'],\n",
    "    'population' : [1234567,2345678,3456789,4567890,5678901,6789012],\n",
    "    'debt':[12345,23456,34567,45678,56789,67890]\n",
    "}\n",
    "df = pd.DataFrame(data)\n",
    "df.index = np.arange(1,7,1)"
   ]
  }
 ],
 "metadata": {
  "kernelspec": {
   "display_name": "aiml",
   "language": "python",
   "name": "python3"
  },
  "language_info": {
   "codemirror_mode": {
    "name": "ipython",
    "version": 3
   },
   "file_extension": ".py",
   "mimetype": "text/x-python",
   "name": "python",
   "nbconvert_exporter": "python",
   "pygments_lexer": "ipython3",
   "version": "3.10.6"
  },
  "orig_nbformat": 4
 },
 "nbformat": 4,
 "nbformat_minor": 2
}
