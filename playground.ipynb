{
 "cells": [
  {
   "cell_type": "code",
   "execution_count": 2,
   "metadata": {},
   "outputs": [],
   "source": [
    "import re\n"
   ]
  },
  {
   "cell_type": "code",
   "execution_count": 24,
   "metadata": {},
   "outputs": [
    {
     "name": "stdout",
     "output_type": "stream",
     "text": [
      "['gray,', 'grey,', 'gr-y,', 'gr!y,']\n"
     ]
    }
   ],
   "source": [
    "p1 = r\"\\bgr.{3}\"\n",
    "text = \"gray, grey, gr-y, gr!y, gry\"\n",
    "matches = re.findall(p1,text)\n",
    "\n",
    "print(matches)"
   ]
  },
  {
   "cell_type": "code",
   "execution_count": 35,
   "metadata": {},
   "outputs": [
    {
     "name": "stdout",
     "output_type": "stream",
     "text": [
      "[' cat', ' hat', ' sat', ' bat', 'ball ', ' mat']\n"
     ]
    }
   ],
   "source": [
    "p1 = r\"\\b[bB]\\w+ | \\b\\w+at\"\n",
    "text = \"The cat in the hat sat bat on the ball flat mat.\"\n",
    "matches = re.findall(p1,text)\n",
    "\n",
    "print(matches)"
   ]
  },
  {
   "cell_type": "code",
   "execution_count": 16,
   "metadata": {},
   "outputs": [
    {
     "data": {
      "text/plain": [
       "['john@example.com', 'ram1...234@hotmail.in', 'john.doe123@mail.com']"
      ]
     },
     "execution_count": 16,
     "metadata": {},
     "output_type": "execute_result"
    }
   ],
   "source": [
    "text = \"My email is john@example.com ram1...234@hotmail.in . Please send me an email at john.doe123@mail.com\"\n",
    "p = r\"\\b[\\w.]+@\\w+.\\w{2,}\"\n",
    "re.findall(p,text)"
   ]
  },
  {
   "cell_type": "code",
   "execution_count": 45,
   "metadata": {},
   "outputs": [
    {
     "data": {
      "text/plain": [
       "['http://www.eample.com ',\n",
       " 'https://www.example.com ',\n",
       " 'https://www.google.com ']"
      ]
     },
     "execution_count": 45,
     "metadata": {},
     "output_type": "execute_result"
    }
   ],
   "source": [
    "text = \"Check out my website at http://www.eample.com https://www.example.com . You can also visit https://www.google.com to search the web.\"\n",
    "p = r\"http[s]?://w{0,3}?[.]\\w+[.]\\w{2,} | \\w*[.]?\\w+[.]\\w{2,}\"\n",
    "re.findall(p,text)"
   ]
  },
  {
   "cell_type": "code",
   "execution_count": 8,
   "metadata": {},
   "outputs": [
    {
     "ename": "TypeError",
     "evalue": "'re.Match' object is not iterable",
     "output_type": "error",
     "traceback": [
      "\u001b[0;31m---------------------------------------------------------------------------\u001b[0m",
      "\u001b[0;31mTypeError\u001b[0m                                 Traceback (most recent call last)",
      "Cell \u001b[0;32mIn[8], line 4\u001b[0m\n\u001b[1;32m      1\u001b[0m text \u001b[39m=\u001b[39m \u001b[39m\"\u001b[39m\u001b[39mCheck out my website at http://www.eample.com https://www.example.com . You can also visit https://www.google.com to search the web.\u001b[39m\u001b[39m\"\u001b[39m\n\u001b[1;32m      2\u001b[0m p \u001b[39m=\u001b[39m \u001b[39mr\u001b[39m\u001b[39m\"\u001b[39m\u001b[39mYou\u001b[39m\u001b[39m\"\u001b[39m\n\u001b[0;32m----> 4\u001b[0m \u001b[39mlist\u001b[39;49m(re\u001b[39m.\u001b[39;49msearch(p,text))\n",
      "\u001b[0;31mTypeError\u001b[0m: 're.Match' object is not iterable"
     ]
    }
   ],
   "source": [
    "text = \"Check out my website at http://www.eample.com https://www.example.com . You can also visit https://www.google.com to search the web.\"\n",
    "p = r\"You\"\n",
    "\n",
    "(re.search(p,text))"
   ]
  },
  {
   "cell_type": "code",
   "execution_count": 4,
   "metadata": {},
   "outputs": [],
   "source": [
    "import pandas as pd\n",
    "\n"
   ]
  },
  {
   "cell_type": "code",
   "execution_count": 2,
   "metadata": {},
   "outputs": [
    {
     "name": "stdout",
     "output_type": "stream",
     "text": [
      "   name  address\n",
      "0     1        1\n",
      "1     2        2\n",
      "2     3        3\n",
      "3     4        4\n"
     ]
    }
   ],
   "source": [
    "df = pd.DataFrame({\n",
    "    'name':[1,2,3,4],\n",
    "    'address':[1,2,3,4]\n",
    "    })\n",
    "print(df)"
   ]
  },
  {
   "cell_type": "code",
   "execution_count": 10,
   "metadata": {},
   "outputs": [
    {
     "data": {
      "text/html": [
       "<div>\n",
       "<style scoped>\n",
       "    .dataframe tbody tr th:only-of-type {\n",
       "        vertical-align: middle;\n",
       "    }\n",
       "\n",
       "    .dataframe tbody tr th {\n",
       "        vertical-align: top;\n",
       "    }\n",
       "\n",
       "    .dataframe thead th {\n",
       "        text-align: right;\n",
       "    }\n",
       "</style>\n",
       "<table border=\"1\" class=\"dataframe\">\n",
       "  <thead>\n",
       "    <tr style=\"text-align: right;\">\n",
       "      <th></th>\n",
       "      <th>Date</th>\n",
       "      <th>Interviewed</th>\n",
       "    </tr>\n",
       "  </thead>\n",
       "  <tbody>\n",
       "    <tr>\n",
       "      <th>0</th>\n",
       "      <td>2022-01-01</td>\n",
       "      <td>[5, 7, 5]</td>\n",
       "    </tr>\n",
       "    <tr>\n",
       "      <th>1</th>\n",
       "      <td>2022-01-02</td>\n",
       "      <td>[7, 5, 6]</td>\n",
       "    </tr>\n",
       "    <tr>\n",
       "      <th>2</th>\n",
       "      <td>2022-01-03</td>\n",
       "      <td>[7, 4, 4]</td>\n",
       "    </tr>\n",
       "    <tr>\n",
       "      <th>3</th>\n",
       "      <td>2022-01-04</td>\n",
       "      <td>[7, 2, 10]</td>\n",
       "    </tr>\n",
       "  </tbody>\n",
       "</table>\n",
       "</div>"
      ],
      "text/plain": [
       "         Date Interviewed\n",
       "0  2022-01-01   [5, 7, 5]\n",
       "1  2022-01-02   [7, 5, 6]\n",
       "2  2022-01-03   [7, 4, 4]\n",
       "3  2022-01-04  [7, 2, 10]"
      ]
     },
     "execution_count": 10,
     "metadata": {},
     "output_type": "execute_result"
    }
   ],
   "source": [
    "data = {\n",
    "    '2022-01-01': [5, 7, 5],\n",
    "    '2022-01-02': [7, 5, 6],\n",
    "    '2022-01-03': [7, 4, 4],\n",
    "    '2022-01-04': [7, 2, 10]\n",
    "}\n",
    "pd.DataFrame(\n",
    "    [(k, val) for k, vals in data.items() for val in vals], \n",
    "    columns=['Date', 'Interviewed']\n",
    ")\n",
    "# print([(k, val) for k, vals in data.items() for val in vals])\n"
   ]
  },
  {
   "cell_type": "code",
   "execution_count": 2,
   "metadata": {},
   "outputs": [
    {
     "name": "stdout",
     "output_type": "stream",
     "text": [
      "a 2\n",
      "b 3\n"
     ]
    },
    {
     "ename": "TypeError",
     "evalue": "'int' object is not iterable",
     "output_type": "error",
     "traceback": [
      "\u001b[0;31m---------------------------------------------------------------------------\u001b[0m",
      "\u001b[0;31mTypeError\u001b[0m                                 Traceback (most recent call last)",
      "Cell \u001b[0;32mIn[2], line 6\u001b[0m\n\u001b[1;32m      3\u001b[0m \u001b[39mfor\u001b[39;00m key,value \u001b[39min\u001b[39;00m data:\n\u001b[1;32m      4\u001b[0m     \u001b[39mprint\u001b[39m(key,value)\n\u001b[0;32m----> 6\u001b[0m \u001b[39mprint\u001b[39m([(k, val) \u001b[39mfor\u001b[39;00m k, vals \u001b[39min\u001b[39;00m data \u001b[39mfor\u001b[39;00m val \u001b[39min\u001b[39;00m vals])\n",
      "Cell \u001b[0;32mIn[2], line 6\u001b[0m, in \u001b[0;36m<listcomp>\u001b[0;34m(.0)\u001b[0m\n\u001b[1;32m      3\u001b[0m \u001b[39mfor\u001b[39;00m key,value \u001b[39min\u001b[39;00m data:\n\u001b[1;32m      4\u001b[0m     \u001b[39mprint\u001b[39m(key,value)\n\u001b[0;32m----> 6\u001b[0m \u001b[39mprint\u001b[39m([(k, val) \u001b[39mfor\u001b[39;00m k, vals \u001b[39min\u001b[39;00m data \u001b[39mfor\u001b[39;00m val \u001b[39min\u001b[39;00m vals])\n",
      "\u001b[0;31mTypeError\u001b[0m: 'int' object is not iterable"
     ]
    }
   ],
   "source": [
    "data = [('a',2),('b',3)]\n",
    "\n",
    "for key,value in data:\n",
    "    print(key,value)\n",
    "    \n",
    "print([(k, val) for k, vals in data for val in vals])"
   ]
  },
  {
   "cell_type": "code",
   "execution_count": 14,
   "metadata": {},
   "outputs": [
    {
     "name": "stdout",
     "output_type": "stream",
     "text": [
      "['Harsh', 39]\n"
     ]
    }
   ],
   "source": [
    "arr = [['Harry', 37.21], ['Berry', 37.21], ['Tina', 37.2], ['Akriti', 41],['Akriti', 41] , ['Harsh', 39], ['Harsh', 39]]\n",
    "arr = sorted(arr,key = lambda x:x[1])\n",
    "\n",
    "l = len(arr)-1\n",
    "while(arr[l][1] == arr[l-1][1]):\n",
    "    l-=1\n",
    "print(arr[l-1])\n",
    "    \n",
    "    "
   ]
  },
  {
   "cell_type": "code",
   "execution_count": 14,
   "metadata": {},
   "outputs": [
    {
     "name": "stdout",
     "output_type": "stream",
     "text": [
      "3 5 7\n"
     ]
    }
   ],
   "source": [
    "import math\n",
    "\n",
    "def primefac(n):\n",
    "    l = []\n",
    "    for i in range(2, int(math.sqrt(n)) + 1):\n",
    "        first_time = True\n",
    "        while n % i == 0:\n",
    "            if first_time:\n",
    "                l.append(i)\n",
    "                first_time = False\n",
    "            n = n / i\n",
    "    if n > 2:\n",
    "        l.append(int(n))\n",
    "    return l\n",
    "print(*primefac(315))"
   ]
  },
  {
   "cell_type": "code",
   "execution_count": 39,
   "metadata": {},
   "outputs": [
    {
     "name": "stdout",
     "output_type": "stream",
     "text": [
      "valid\n"
     ]
    }
   ],
   "source": [
    "\n",
    "import re\n",
    "passw = \"input()nn$12\"\n",
    "\n",
    "if re.search(r\"^.{6,15}$\",passw) and re.search(\"\\d\",passw) and re.search(\"[*@$]\",passw) and re.search(\"\"):\n",
    "    print(\"valid\")\n",
    "else:\n",
    "    print(\"invalid\")"
   ]
  },
  {
   "cell_type": "code",
   "execution_count": 50,
   "metadata": {},
   "outputs": [
    {
     "name": "stdout",
     "output_type": "stream",
     "text": [
      "acccca\n"
     ]
    }
   ],
   "source": [
    "# s = input(\"Enter a string: \") \n",
    "s = \"ac...a\"\n",
    "alpha = []\n",
    "for i in range(97,123):\n",
    "    alpha.append(chr(i)) \n",
    "    for c in alpha: \n",
    "        new = s.replace('.',c) \n",
    "    if new==new[::-1]:\n",
    "        print(new) \n",
    "        break\n",
    "else:\n",
    "    print(\"Not possible to make the string as palindrome\")"
   ]
  },
  {
   "cell_type": "code",
   "execution_count": null,
   "metadata": {},
   "outputs": [],
   "source": [
    "def printSpiralMat(mat):\n",
    "    k,count = len(mat[0]),0\n",
    "    length = a*a\n",
    "    isCol = True\n",
    "    r,c = 0,0\n",
    "    while(count<length):\n",
    "        \n",
    "\n",
    "        \n"
   ]
  },
  {
   "cell_type": "code",
   "execution_count": 1,
   "metadata": {},
   "outputs": [
    {
     "name": "stdout",
     "output_type": "stream",
     "text": [
      "[0.  1.5 3. ]\n"
     ]
    }
   ],
   "source": [
    "import numpy as np\n",
    "A = np.linspace(0,3,3)\n",
    "print(A)"
   ]
  },
  {
   "cell_type": "code",
   "execution_count": 37,
   "metadata": {},
   "outputs": [
    {
     "name": "stdout",
     "output_type": "stream",
     "text": [
      "[[1 0 0]\n",
      " [0 1 0]\n",
      " [0 0 1]]\n"
     ]
    }
   ],
   "source": [
    "A = np.random.normal(4,4,(3,))\n",
    "print(np.eye(3,dtype=int))"
   ]
  },
  {
   "cell_type": "code",
   "execution_count": 44,
   "metadata": {},
   "outputs": [
    {
     "ename": "ValueError",
     "evalue": "setting an array element with a sequence. The requested array has an inhomogeneous shape after 2 dimensions. The detected shape was (1, 2) + inhomogeneous part.",
     "output_type": "error",
     "traceback": [
      "\u001b[1;31m---------------------------------------------------------------------------\u001b[0m",
      "\u001b[1;31mValueError\u001b[0m                                Traceback (most recent call last)",
      "Cell \u001b[1;32mIn[44], line 10\u001b[0m\n\u001b[0;32m      1\u001b[0m A \u001b[39m=\u001b[39m [\n\u001b[0;32m      2\u001b[0m     [\n\u001b[0;32m      3\u001b[0m         [\u001b[39m1\u001b[39m,\u001b[39m2\u001b[39m,\u001b[39m3\u001b[39m],\n\u001b[0;32m      4\u001b[0m         [\u001b[39m2\u001b[39m,\u001b[39m3\u001b[39m,\u001b[39m4\u001b[39m]\n\u001b[0;32m      5\u001b[0m     ]\n\u001b[0;32m      6\u001b[0m ]\n\u001b[0;32m      8\u001b[0m A[\u001b[39m0\u001b[39m][\u001b[39m0\u001b[39m] \u001b[39m=\u001b[39m [\u001b[39m1\u001b[39m]\n\u001b[1;32m---> 10\u001b[0m A \u001b[39m=\u001b[39m np\u001b[39m.\u001b[39;49marray(A)\n\u001b[0;32m     12\u001b[0m \u001b[39mprint\u001b[39m(A)\n",
      "\u001b[1;31mValueError\u001b[0m: setting an array element with a sequence. The requested array has an inhomogeneous shape after 2 dimensions. The detected shape was (1, 2) + inhomogeneous part."
     ]
    }
   ],
   "source": [
    "A = [\n",
    "    [\n",
    "        [1,2,3],\n",
    "        [2,3,4]\n",
    "    ]\n",
    "]\n",
    "\n",
    "\n",
    "\n",
    "A = np.array(A)\n",
    "\n",
    "print(A)"
   ]
  }
 ],
 "metadata": {
  "kernelspec": {
   "display_name": "Python 3",
   "language": "python",
   "name": "python3"
  },
  "language_info": {
   "codemirror_mode": {
    "name": "ipython",
    "version": 3
   },
   "file_extension": ".py",
   "mimetype": "text/x-python",
   "name": "python",
   "nbconvert_exporter": "python",
   "pygments_lexer": "ipython3",
   "version": "3.11.4"
  },
  "orig_nbformat": 4
 },
 "nbformat": 4,
 "nbformat_minor": 2
}
