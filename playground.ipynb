{
 "cells": [
  {
   "cell_type": "code",
   "execution_count": 2,
   "metadata": {},
   "outputs": [],
   "source": [
    "import re\n"
   ]
  },
  {
   "cell_type": "code",
   "execution_count": 24,
   "metadata": {},
   "outputs": [
    {
     "name": "stdout",
     "output_type": "stream",
     "text": [
      "['gray,', 'grey,', 'gr-y,', 'gr!y,']\n"
     ]
    }
   ],
   "source": [
    "p1 = r\"\\bgr.{3}\"\n",
    "text = \"gray, grey, gr-y, gr!y, gry\"\n",
    "matches = re.findall(p1,text)\n",
    "\n",
    "print(matches)"
   ]
  },
  {
   "cell_type": "code",
   "execution_count": 35,
   "metadata": {},
   "outputs": [
    {
     "name": "stdout",
     "output_type": "stream",
     "text": [
      "[' cat', ' hat', ' sat', ' bat', 'ball ', ' mat']\n"
     ]
    }
   ],
   "source": [
    "p1 = r\"\\b[bB]\\w+ | \\b\\w+at\"\n",
    "text = \"The cat in the hat sat bat on the ball flat mat.\"\n",
    "matches = re.findall(p1,text)\n",
    "\n",
    "print(matches)"
   ]
  },
  {
   "cell_type": "code",
   "execution_count": 16,
   "metadata": {},
   "outputs": [
    {
     "data": {
      "text/plain": [
       "['john@example.com', 'ram1...234@hotmail.in', 'john.doe123@mail.com']"
      ]
     },
     "execution_count": 16,
     "metadata": {},
     "output_type": "execute_result"
    }
   ],
   "source": [
    "text = \"My email is john@example.com ram1...234@hotmail.in . Please send me an email at john.doe123@mail.com\"\n",
    "p = r\"\\b[\\w.]+@\\w+.\\w{2,}\"\n",
    "re.findall(p,text)"
   ]
  },
  {
   "cell_type": "code",
   "execution_count": 45,
   "metadata": {},
   "outputs": [
    {
     "data": {
      "text/plain": [
       "['http://www.eample.com ',\n",
       " 'https://www.example.com ',\n",
       " 'https://www.google.com ']"
      ]
     },
     "execution_count": 45,
     "metadata": {},
     "output_type": "execute_result"
    }
   ],
   "source": [
    "text = \"Check out my website at http://www.eample.com https://www.example.com . You can also visit https://www.google.com to search the web.\"\n",
    "p = r\"http[s]?://w{0,3}?[.]\\w+[.]\\w{2,} | \\w*[.]?\\w+[.]\\w{2,}\"\n",
    "re.findall(p,text)"
   ]
  },
  {
   "cell_type": "code",
   "execution_count": 8,
   "metadata": {},
   "outputs": [
    {
     "ename": "TypeError",
     "evalue": "'re.Match' object is not iterable",
     "output_type": "error",
     "traceback": [
      "\u001b[0;31m---------------------------------------------------------------------------\u001b[0m",
      "\u001b[0;31mTypeError\u001b[0m                                 Traceback (most recent call last)",
      "Cell \u001b[0;32mIn[8], line 4\u001b[0m\n\u001b[1;32m      1\u001b[0m text \u001b[39m=\u001b[39m \u001b[39m\"\u001b[39m\u001b[39mCheck out my website at http://www.eample.com https://www.example.com . You can also visit https://www.google.com to search the web.\u001b[39m\u001b[39m\"\u001b[39m\n\u001b[1;32m      2\u001b[0m p \u001b[39m=\u001b[39m \u001b[39mr\u001b[39m\u001b[39m\"\u001b[39m\u001b[39mYou\u001b[39m\u001b[39m\"\u001b[39m\n\u001b[0;32m----> 4\u001b[0m \u001b[39mlist\u001b[39;49m(re\u001b[39m.\u001b[39;49msearch(p,text))\n",
      "\u001b[0;31mTypeError\u001b[0m: 're.Match' object is not iterable"
     ]
    }
   ],
   "source": [
    "text = \"Check out my website at http://www.eample.com https://www.example.com . You can also visit https://www.google.com to search the web.\"\n",
    "p = r\"You\"\n",
    "\n",
    "(re.search(p,text))"
   ]
  }
 ],
 "metadata": {
  "kernelspec": {
   "display_name": "Python 3",
   "language": "python",
   "name": "python3"
  },
  "language_info": {
   "codemirror_mode": {
    "name": "ipython",
    "version": 3
   },
   "file_extension": ".py",
   "mimetype": "text/x-python",
   "name": "python",
   "nbconvert_exporter": "python",
   "pygments_lexer": "ipython3",
   "version": "3.10.6"
  },
  "orig_nbformat": 4
 },
 "nbformat": 4,
 "nbformat_minor": 2
}
