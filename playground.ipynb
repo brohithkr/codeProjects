{
 "cells": [
  {
   "cell_type": "code",
   "execution_count": 2,
   "metadata": {},
   "outputs": [],
   "source": [
    "import re\n"
   ]
  },
  {
   "cell_type": "code",
   "execution_count": 24,
   "metadata": {},
   "outputs": [
    {
     "name": "stdout",
     "output_type": "stream",
     "text": [
      "['gray,', 'grey,', 'gr-y,', 'gr!y,']\n"
     ]
    }
   ],
   "source": [
    "p1 = r\"\\bgr.{3}\"\n",
    "text = \"gray, grey, gr-y, gr!y, gry\"\n",
    "matches = re.findall(p1,text)\n",
    "\n",
    "print(matches)"
   ]
  },
  {
   "cell_type": "code",
   "execution_count": 35,
   "metadata": {},
   "outputs": [
    {
     "name": "stdout",
     "output_type": "stream",
     "text": [
      "[' cat', ' hat', ' sat', ' bat', 'ball ', ' mat']\n"
     ]
    }
   ],
   "source": [
    "p1 = r\"\\b[bB]\\w+ | \\b\\w+at\"\n",
    "text = \"The cat in the hat sat bat on the ball flat mat.\"\n",
    "matches = re.findall(p1,text)\n",
    "\n",
    "print(matches)"
   ]
  },
  {
   "cell_type": "code",
   "execution_count": 16,
   "metadata": {},
   "outputs": [
    {
     "data": {
      "text/plain": [
       "['john@example.com', 'ram1...234@hotmail.in', 'john.doe123@mail.com']"
      ]
     },
     "execution_count": 16,
     "metadata": {},
     "output_type": "execute_result"
    }
   ],
   "source": [
    "text = \"My email is john@example.com ram1...234@hotmail.in . Please send me an email at john.doe123@mail.com\"\n",
    "p = r\"\\b[\\w.]+@\\w+.\\w{2,}\"\n",
    "re.findall(p,text)"
   ]
  },
  {
   "cell_type": "code",
   "execution_count": 45,
   "metadata": {},
   "outputs": [
    {
     "data": {
      "text/plain": [
       "['http://www.eample.com ',\n",
       " 'https://www.example.com ',\n",
       " 'https://www.google.com ']"
      ]
     },
     "execution_count": 45,
     "metadata": {},
     "output_type": "execute_result"
    }
   ],
   "source": [
    "text = \"Check out my website at http://www.eample.com https://www.example.com . You can also visit https://www.google.com to search the web.\"\n",
    "p = r\"http[s]?://w{0,3}?[.]\\w+[.]\\w{2,} | \\w*[.]?\\w+[.]\\w{2,}\"\n",
    "re.findall(p,text)"
   ]
  },
  {
   "cell_type": "code",
   "execution_count": null,
   "metadata": {},
   "outputs": [],
   "source": []
  }
 ],
 "metadata": {
  "kernelspec": {
   "display_name": "Python 3",
   "language": "python",
   "name": "python3"
  },
  "language_info": {
   "codemirror_mode": {
    "name": "ipython",
    "version": 3
   },
   "file_extension": ".py",
   "mimetype": "text/x-python",
   "name": "python",
   "nbconvert_exporter": "python",
   "pygments_lexer": "ipython3",
   "version": "3.10.6"
  },
  "orig_nbformat": 4
 },
 "nbformat": 4,
 "nbformat_minor": 2
}
