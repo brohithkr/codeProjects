{
 "cells": [
  {
   "attachments": {},
   "cell_type": "markdown",
   "metadata": {},
   "source": [
    "# Older"
   ]
  },
  {
   "cell_type": "markdown",
   "metadata": {},
   "source": [
    "16. Write a C program to construct a pyramid of numbers as follows:"
   ]
  },
  {
   "cell_type": "code",
   "execution_count": 5,
   "metadata": {
    "tags": []
   },
   "outputs": [
    {
     "name": "stdout",
     "output_type": "stream",
     "text": [
      " 3\n"
     ]
    },
    {
     "name": "stdout",
     "output_type": "stream",
     "text": [
      "1 \n",
      "1 2 \n",
      "1 2 3 \n"
     ]
    }
   ],
   "source": [
    "for i in range(1,int(input())+1):\n",
    "    for j in range(1,i+1):\n",
    "        print(j,end=\" \")\n",
    "    print()"
   ]
  },
  {
   "cell_type": "markdown",
   "metadata": {},
   "source": [
    "17. Write a C program to construct a pyramid of * as follows:"
   ]
  },
  {
   "cell_type": "code",
   "execution_count": 3,
   "metadata": {
    "tags": []
   },
   "outputs": [
    {
     "name": "stdout",
     "output_type": "stream",
     "text": [
      " 4\n"
     ]
    },
    {
     "name": "stdout",
     "output_type": "stream",
     "text": [
      "\n",
      "* \n",
      "* * \n",
      "* * * \n"
     ]
    }
   ],
   "source": [
    "for i in range(int(input())):\n",
    "    for j in range(i):\n",
    "        print(\"* \",end=\"\")\n",
    "    print()"
   ]
  },
  {
   "cell_type": "markdown",
   "metadata": {},
   "source": [
    "18. Write a C program to construct a pyramid of numbers as follows:  \n",
    "1  \n",
    "23  \n",
    "456  "
   ]
  },
  {
   "cell_type": "code",
   "execution_count": 8,
   "metadata": {
    "tags": []
   },
   "outputs": [
    {
     "name": "stdout",
     "output_type": "stream",
     "text": [
      " 4\n"
     ]
    },
    {
     "name": "stdout",
     "output_type": "stream",
     "text": [
      "\n",
      "1 \n",
      "2 3 \n",
      "4 5 6 \n"
     ]
    }
   ],
   "source": [
    "n = int(input())\n",
    "k = 1\n",
    "for i in range(0,n):\n",
    "    for j in range(0,i):\n",
    "        print(k,end=\" \")\n",
    "        k+=1\n",
    "    print()"
   ]
  },
  {
   "cell_type": "markdown",
   "metadata": {},
   "source": [
    "19. Write a C program to construct a pyramid of numbers as follows:  \n",
    "1  \n",
    "22  \n",
    "333  \n",
    "4444  "
   ]
  },
  {
   "cell_type": "code",
   "execution_count": 8,
   "metadata": {},
   "outputs": [
    {
     "name": "stdout",
     "output_type": "stream",
     "text": [
      "1 \n",
      "2 2 \n",
      "3 3 3 \n",
      "4 4 4 4 \n",
      "5 5 5 5 5 \n"
     ]
    }
   ],
   "source": [
    "for i in range(1,int(input())+1):\n",
    "    for j in range(i):\n",
    "        print(i,end=\" \")\n",
    "    print()"
   ]
  },
  {
   "cell_type": "markdown",
   "metadata": {},
   "source": [
    "20.Write a C program to construct a pyramid of numbers as follows:  \n",
    "*  \n",
    "**  \n",
    "***\n",
    "**  \n",
    "*  "
   ]
  },
  {
   "cell_type": "code",
   "execution_count": 9,
   "metadata": {
    "tags": []
   },
   "outputs": [
    {
     "name": "stdout",
     "output_type": "stream",
     "text": [
      " 5\n"
     ]
    },
    {
     "name": "stdout",
     "output_type": "stream",
     "text": [
      "\n",
      "* \n",
      "* * \n",
      "* * * \n",
      "* * * * \n",
      "* * * * * \n",
      "* * * * \n",
      "* * * \n",
      "* * \n",
      "* \n"
     ]
    }
   ],
   "source": [
    "n = int(input())\n",
    "for i in range(n):\n",
    "    for j in range(i):\n",
    "        print(\"* \",end=\"\")\n",
    "    print()\n",
    "for i in range(n,0,-1):\n",
    "    for j in range(i):\n",
    "        print(\"* \",end=\"\")\n",
    "    print()\n"
   ]
  },
  {
   "attachments": {},
   "cell_type": "markdown",
   "metadata": {},
   "source": [
    "# 24/04/23"
   ]
  },
  {
   "attachments": {},
   "cell_type": "markdown",
   "metadata": {},
   "source": [
    "Programs to find the number of vowels for each given word."
   ]
  },
  {
   "cell_type": "code",
   "execution_count": 10,
   "metadata": {},
   "outputs": [
    {
     "name": "stdout",
     "output_type": "stream",
     "text": [
      "welcome-2\n"
     ]
    }
   ],
   "source": [
    "vowels = \"aeiouAEIOU\"\n",
    "text = input()\n",
    "\n",
    "words = text.split(\" \")\n",
    "\n",
    "for word in words:\n",
    "    vowelcount = 0\n",
    "    seen = \"\"\n",
    "    for letter in word:\n",
    "        if letter in vowels:\n",
    "            if letter not in seen:\n",
    "                vowelcount += 1\n",
    "                seen += letter\n",
    "            \n",
    "            \n",
    "    print(f\"{word}-{vowelcount}\")\n",
    "\n",
    "\n"
   ]
  },
  {
   "attachments": {},
   "cell_type": "markdown",
   "metadata": {},
   "source": [
    "text = \"aabbabbbabbaaaba\"  \n",
    "Find number of palindrome words of only three letters in given text, start with index zero and end with last index."
   ]
  },
  {
   "cell_type": "code",
   "execution_count": 12,
   "metadata": {},
   "outputs": [
    {
     "name": "stdout",
     "output_type": "stream",
     "text": [
      "aab - no\n",
      "abb - no\n",
      "bba - no\n",
      "bab - yes\n",
      "abb - no\n",
      "bbb - yes\n",
      "bba - no\n",
      "bab - yes\n",
      "abb - no\n",
      "bba - no\n",
      "baa - no\n",
      "aaa - yes\n",
      "aab - no\n",
      "aba - yes\n"
     ]
    }
   ],
   "source": [
    "# def ispalindrome(word):\n",
    "#     l = len(word)\n",
    "#     for i in range(l // 2):\n",
    "#         if(word[i] != word[l-i-1]):\n",
    "#             return False\n",
    "#     return True\n",
    "\n",
    "text = \"aabbabbbabbaaaba\"\n",
    "l = len(text)\n",
    "for i in range(l-2):\n",
    "    if(text[i] == text[i + 2]):\n",
    "        print(f\"{text[i:i+3]} - yes\")\n",
    "    else:\n",
    "        print(f\"{text[i:i+3]} - no\")\n",
    "\n",
    "\n"
   ]
  },
  {
   "attachments": {},
   "cell_type": "markdown",
   "metadata": {},
   "source": [
    "extract unique combinations."
   ]
  },
  {
   "cell_type": "code",
   "execution_count": null,
   "metadata": {},
   "outputs": [],
   "source": []
  },
  {
   "attachments": {},
   "cell_type": "markdown",
   "metadata": {},
   "source": [
    "a = '234568917'  \n",
    "find all possible combinations."
   ]
  },
  {
   "cell_type": "code",
   "execution_count": 3,
   "metadata": {},
   "outputs": [
    {
     "name": "stdout",
     "output_type": "stream",
     "text": [
      "2 3 4 6 \n",
      "4 5 6 \n",
      "3 4 8 \n",
      "2 5 8 \n",
      "2 4 9 \n",
      "6 9 \n",
      "2 3 4 5 1 \n",
      "3 5 6 1 \n",
      "2 4 8 1 \n",
      "6 8 1 \n",
      "2 3 9 1 \n",
      "5 9 1 \n",
      "3 5 7 \n",
      "2 6 7 \n",
      "8 7 \n",
      "3 4 1 7 \n",
      "2 5 1 7 \n",
      "2 3 4 6 \n",
      "4 5 6 \n",
      "3 4 8 \n",
      "2 5 8 \n",
      "2 4 9 \n",
      "6 9 \n",
      "2 3 4 5 1 \n",
      "3 5 6 1 \n",
      "2 4 8 1 \n",
      "6 8 1 \n",
      "2 3 9 1 \n",
      "5 9 1 \n",
      "3 5 7 \n",
      "2 6 7 \n",
      "8 7 \n",
      "3 4 1 7 \n",
      "2 5 1 7 \n"
     ]
    }
   ],
   "source": [
    "a = '234568917'\n",
    "all_combos = []\n",
    "for i in range(1024):\n",
    "    selection = []\n",
    "    twos = 1\n",
    "    for j in range(9):\n",
    "        if (twos & i) != 0:\n",
    "            selection.append(int(a[j]))\n",
    "        twos = twos << 1\n",
    "    sum = 0\n",
    "    for j in range(len(selection)):\n",
    "        sum+=selection[j]\n",
    "    if sum == 15:\n",
    "        all_combos.append(selection)\n",
    "\n",
    "for i in all_combos:\n",
    "    for j in i:\n",
    "        print(j,end=\" \")\n",
    "    print()\n"
   ]
  }
 ],
 "metadata": {
  "kernelspec": {
   "display_name": "Python 3 (ipykernel)",
   "language": "python",
   "name": "python3"
  },
  "language_info": {
   "codemirror_mode": {
    "name": "ipython",
    "version": 3
   },
   "file_extension": ".py",
   "mimetype": "text/x-python",
   "name": "python",
   "nbconvert_exporter": "python",
   "pygments_lexer": "ipython3",
   "version": "3.10.6"
  }
 },
 "nbformat": 4,
 "nbformat_minor": 4
}
