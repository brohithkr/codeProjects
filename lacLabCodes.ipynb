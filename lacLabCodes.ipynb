{
 "cells": [
  {
   "attachments": {},
   "cell_type": "markdown",
   "metadata": {},
   "source": [
    "**Program-1**  \n",
    "1.1 Aim:To display Row vector"
   ]
  },
  {
   "cell_type": "code",
   "execution_count": 1,
   "metadata": {},
   "outputs": [
    {
     "name": "stdout",
     "output_type": "stream",
     "text": [
      "Vector: [1, 2, 3, 4, 5]\n"
     ]
    }
   ],
   "source": [
    "n = int(input(\"Enter Number of elements:\"))\n",
    "v=[]\n",
    "for i in range(n):\n",
    "    v.append(int(input()))\n",
    "print(\"Vector:\",v)"
   ]
  },
  {
   "cell_type": "code",
   "execution_count": 3,
   "metadata": {},
   "outputs": [
    {
     "name": "stdout",
     "output_type": "stream",
     "text": [
      "Vector: 2 5 7 4 5 "
     ]
    }
   ],
   "source": [
    "n = int(input(\"Enter Number of elements:\"))\n",
    "v=[]\n",
    "for i in range(n):\n",
    "    v.append(int(input()))\n",
    "print(\"Vector:\",end=' ')\n",
    "for i in range(n):\n",
    "    print(v[i],end=' ')\n"
   ]
  },
  {
   "attachments": {},
   "cell_type": "markdown",
   "metadata": {},
   "source": [
    "1.2 To display Column Vector"
   ]
  },
  {
   "cell_type": "code",
   "execution_count": 4,
   "metadata": {},
   "outputs": [
    {
     "name": "stdout",
     "output_type": "stream",
     "text": [
      "1 2 \n",
      "3 4 \n"
     ]
    }
   ],
   "source": [
    "rowsize = int(input())\n",
    "colsize = int(input())\n",
    "arr = []\n",
    "for i in range(rowsize):\n",
    "    row = []\n",
    "    for j in range(colsize):\n",
    "        row.append(int(input()))\n",
    "    arr.append(row)\n",
    "for i in range(rowsize):0\n",
    "    for j in range(colsize):\n",
    "        print(arr[i][j],end=\" \")\n",
    "    print()\n"
   ]
  },
  {
   "attachments": {},
   "cell_type": "markdown",
   "metadata": {},
   "source": [
    "1.3 Aim:To print diagonal elements"
   ]
  },
  {
   "cell_type": "code",
   "execution_count": null,
   "metadata": {},
   "outputs": [],
   "source": [
    "n = int(input())\n",
    "arr = []\n",
    "for i in range(n):\n",
    "    row = []\n",
    "    for i in range(n):\n",
    "        for j in range(n):\n",
    "            row.append(int(input()))\n",
    "        arr.append(row)\n",
    "    \n",
    "    \n"
   ]
  },
  {
   "attachments": {},
   "cell_type": "markdown",
   "metadata": {},
   "source": []
  },
  {
   "cell_type": "code",
   "execution_count": null,
   "metadata": {},
   "outputs": [],
   "source": []
  }
 ],
 "metadata": {
  "kernelspec": {
   "display_name": "Python 3",
   "language": "python",
   "name": "python3"
  },
  "language_info": {
   "codemirror_mode": {
    "name": "ipython",
    "version": 3
   },
   "file_extension": ".py",
   "mimetype": "text/x-python",
   "name": "python",
   "nbconvert_exporter": "python",
   "pygments_lexer": "ipython3",
   "version": "3.10.6"
  },
  "orig_nbformat": 4
 },
 "nbformat": 4,
 "nbformat_minor": 2
}
