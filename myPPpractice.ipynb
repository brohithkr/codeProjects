{
 "cells": [
  {
   "attachments": {},
   "cell_type": "markdown",
   "metadata": {},
   "source": [
    "## OLD"
   ]
  },
  {
   "cell_type": "code",
   "execution_count": 2,
   "metadata": {},
   "outputs": [
    {
     "name": "stdout",
     "output_type": "stream",
     "text": [
      "[[4 5 6]]\n"
     ]
    }
   ],
   "source": [
    "import numpy as np\n",
    "\n",
    "arr = np.array([2,3,4,5,6,7,8])\n",
    "arr2 = np.array([[1,2,3],[4,5,6],[7,8,9],[2,3,5]])\n",
    "arrnames = np.array(['harry','jack','rose','lily'])\n",
    "\n",
    "print(arr2[arrnames == 'jack' ])\n",
    "\n"
   ]
  },
  {
   "cell_type": "code",
   "execution_count": 32,
   "metadata": {},
   "outputs": [
    {
     "name": "stdout",
     "output_type": "stream",
     "text": [
      "[[1 4 7]\n",
      " [2 5 8]\n",
      " [3 6 9]] \n",
      " [[1 2 3]\n",
      " [4 5 6]\n",
      " [7 8 9]]\n",
      "[[ 66  78  90]\n",
      " [ 78  93 108]\n",
      " [ 90 108 126]]\n"
     ]
    }
   ],
   "source": [
    "import numpy as np\n",
    "\n",
    "arr = np.array([2,3,4,5,6,7,8])\n",
    "arr2 = np.array([[1,2,3],[4,5,6],[7,8,9],[2,3,5]])\n",
    "arr3 = np.array([[1,2,3],[4,5,6],[7,8,9]])\n",
    "print(arr3.T,\"\\n\",arr3)\n",
    "\n",
    "print(arr3.T @ arr3)\n",
    "\n"
   ]
  },
  {
   "cell_type": "code",
   "execution_count": 5,
   "metadata": {},
   "outputs": [
    {
     "name": "stdout",
     "output_type": "stream",
     "text": [
      "(array([1]),)\n"
     ]
    }
   ],
   "source": [
    "import numpy as np\n",
    "\n",
    "arr1 = np.array([[1, 2, 3],[2,3,4]])\n",
    "\n",
    "arr2 = np.array([[4, 5, 6],[3,4,5]])\n",
    "\n",
    "arr = np.concatenate((arr1, arr2))\n",
    "ju\n",
    "print(np.where(arr2[0]==5))"
   ]
  },
  {
   "cell_type": "code",
   "execution_count": 8,
   "metadata": {},
   "outputs": [
    {
     "name": "stdout",
     "output_type": "stream",
     "text": [
      "[[1 3 4]\n",
      " [2 4 5]]\n"
     ]
    }
   ],
   "source": [
    "import numpy as np\n",
    "\n",
    "arr1 = np.array([[1, 4, 3],[2,5,4]])\n",
    "\n",
    "arr2 = np.array([[4, 5, 6],[3,4,5]])\n",
    "\n",
    "print(np.sort(arr1))"
   ]
  },
  {
   "attachments": {},
   "cell_type": "markdown",
   "metadata": {},
   "source": [
    "## 26/04/2023"
   ]
  },
  {
   "cell_type": "code",
   "execution_count": 22,
   "metadata": {},
   "outputs": [
    {
     "name": "stdout",
     "output_type": "stream",
     "text": [
      "[array([[0.  , 0.25, 0.5 , 0.75],\n",
      "       [0.  , 0.25, 0.5 , 0.75],\n",
      "       [0.  , 0.25, 0.5 , 0.75],\n",
      "       [0.  , 0.25, 0.5 , 0.75]]), array([[0.  , 0.  , 0.  , 0.  ],\n",
      "       [0.25, 0.25, 0.25, 0.25],\n",
      "       [0.5 , 0.5 , 0.5 , 0.5 ],\n",
      "       [0.75, 0.75, 0.75, 0.75]])]\n"
     ]
    }
   ],
   "source": [
    "import numpy as np\n",
    "\n",
    "points = np.arange(0,1,0.25)\n",
    "print(np.meshgrid(points,points))\n",
    "np.savez(\"testarray\",points,points)"
   ]
  },
  {
   "attachments": {},
   "cell_type": "markdown",
   "metadata": {},
   "source": [
    "## 27/04/2023"
   ]
  },
  {
   "cell_type": "code",
   "execution_count": null,
   "metadata": {},
   "outputs": [
    {
     "ename": "",
     "evalue": "",
     "output_type": "error",
     "traceback": [
      "\u001b[1;31mThe kernel failed to start as the Python Environment 'aiml' is no longer available. Consider selecting another kernel or refreshing the list of Python Environments."
     ]
    }
   ],
   "source": [
    "import pandas as pd"
   ]
  },
  {
   "cell_type": "code",
   "execution_count": 7,
   "metadata": {},
   "outputs": [
    {
     "name": "stdout",
     "output_type": "stream",
     "text": [
      "    x    y\n",
      "0   a   97\n",
      "1   b   98\n",
      "2   c   99\n",
      "3   d  100\n",
      "4   e  101\n",
      "5   f  102\n",
      "6   g  103\n",
      "7   h  104\n",
      "8   i  105\n",
      "9   j  106\n",
      "10  k  107\n",
      "11  l  108\n"
     ]
    }
   ],
   "source": [
    "df = pd.DataFrame({\n",
    "    'x' : [chr(i) for i in range(ord('a'),ord('m'))],\n",
    "    'y' : [i for  i in range(ord('a'),ord('m'))]\n",
    "})\n",
    "print(df)"
   ]
  },
  {
   "cell_type": "code",
   "execution_count": 6,
   "metadata": {},
   "outputs": [
    {
     "name": "stdout",
     "output_type": "stream",
     "text": [
      "97\n"
     ]
    }
   ],
   "source": [
    "data = {\n",
    "    'Noirville': {'Population': 2000000, 'Debt': 500000000, 'Capital City': 'Shadowhaven'},\n",
    "    'Crimsonia': {'Population': 5000000, 'Debt': 1000000000, 'Capital City': 'Bloodstone'},\n",
    "    'Obsidiania': {'Population': 3000000, 'Debt': 750000000, 'Capital City': 'Nightshade'},\n",
    "    'Ravenholm': {'Population': 1000000, 'Debt': 250000000, 'Capital City': 'Blackwing'},\n",
    "    'Midnightia': {'Population': 4000000, 'Debt': 900000000, 'Capital City': 'Moonstone'},\n",
    "    'Sinisteria': {'Population': 2500000, 'Debt': 600000000, 'Capital City': 'Darkhaven'}\n",
    "}\n",
    "pd.DataFrame(data)"
   ]
  },
  {
   "attachments": {},
   "cell_type": "markdown",
   "metadata": {},
   "source": [
    "# 3/5/2023"
   ]
  },
  {
   "cell_type": "code",
   "execution_count": 1,
   "metadata": {},
   "outputs": [],
   "source": [
    "import pandas as pd\n",
    "import numpy as np"
   ]
  },
  {
   "cell_type": "code",
   "execution_count": 59,
   "metadata": {},
   "outputs": [
    {
     "data": {
      "text/html": [
       "<div>\n",
       "<style scoped>\n",
       "    .dataframe tbody tr th:only-of-type {\n",
       "        vertical-align: middle;\n",
       "    }\n",
       "\n",
       "    .dataframe tbody tr th {\n",
       "        vertical-align: top;\n",
       "    }\n",
       "\n",
       "    .dataframe thead th {\n",
       "        text-align: right;\n",
       "    }\n",
       "</style>\n",
       "<table border=\"1\" class=\"dataframe\">\n",
       "  <thead>\n",
       "    <tr style=\"text-align: right;\">\n",
       "      <th></th>\n",
       "      <th>states</th>\n",
       "      <th>capital</th>\n",
       "      <th>debt</th>\n",
       "      <th>population</th>\n",
       "    </tr>\n",
       "  </thead>\n",
       "  <tbody>\n",
       "    <tr>\n",
       "      <th>0</th>\n",
       "      <td>Noirville</td>\n",
       "      <td>Shadowhaven</td>\n",
       "      <td>1000000</td>\n",
       "      <td>500000</td>\n",
       "    </tr>\n",
       "    <tr>\n",
       "      <th>1</th>\n",
       "      <td>Shadowville</td>\n",
       "      <td>Bloodstone</td>\n",
       "      <td>2000000</td>\n",
       "      <td>1000000</td>\n",
       "    </tr>\n",
       "    <tr>\n",
       "      <th>2</th>\n",
       "      <td>Gotham</td>\n",
       "      <td>Nightshade</td>\n",
       "      <td>3000000</td>\n",
       "      <td>1500000</td>\n",
       "    </tr>\n",
       "    <tr>\n",
       "      <th>3</th>\n",
       "      <td>Crimsonia</td>\n",
       "      <td>Blackwing</td>\n",
       "      <td>4000000</td>\n",
       "      <td>2000000</td>\n",
       "    </tr>\n",
       "    <tr>\n",
       "      <th>4</th>\n",
       "      <td>Nightfall</td>\n",
       "      <td>Moonstone</td>\n",
       "      <td>5000000</td>\n",
       "      <td>2500000</td>\n",
       "    </tr>\n",
       "    <tr>\n",
       "      <th>5</th>\n",
       "      <td>Ravenholm</td>\n",
       "      <td>Aurora</td>\n",
       "      <td>6000000</td>\n",
       "      <td>3000000</td>\n",
       "    </tr>\n",
       "  </tbody>\n",
       "</table>\n",
       "</div>"
      ],
      "text/plain": [
       "        states      capital     debt  population\n",
       "0    Noirville  Shadowhaven  1000000      500000\n",
       "1  Shadowville   Bloodstone  2000000     1000000\n",
       "2       Gotham   Nightshade  3000000     1500000\n",
       "3    Crimsonia    Blackwing  4000000     2000000\n",
       "4    Nightfall    Moonstone  5000000     2500000\n",
       "5    Ravenholm       Aurora  6000000     3000000"
      ]
     },
     "execution_count": 59,
     "metadata": {},
     "output_type": "execute_result"
    }
   ],
   "source": [
    "data = {\n",
    "    'states': ['Noirville', 'Shadowville', 'Gotham', 'Crimsonia', 'Nightfall', 'Ravenholm'],\n",
    "    'capital': ['Shadowhaven', 'Bloodstone', 'Nightshade', 'Blackwing', 'Moonstone', 'Aurora'],\n",
    "    'debt': [1000000, 2000000, 3000000, 4000000, 5000000, 6000000],\n",
    "    'population': [500000, 1000000, 1500000, 2000000, 2500000, 3000000]\n",
    "}\n",
    "df = pd.DataFrame(data)\n",
    "df"
   ]
  },
  {
   "cell_type": "code",
   "execution_count": 37,
   "metadata": {},
   "outputs": [
    {
     "name": "stderr",
     "output_type": "stream",
     "text": [
      "/tmp/ipykernel_3393/3777447119.py:1: SettingWithCopyWarning: \n",
      "A value is trying to be set on a copy of a slice from a DataFrame\n",
      "\n",
      "See the caveats in the documentation: https://pandas.pydata.org/pandas-docs/stable/user_guide/indexing.html#returning-a-view-versus-a-copy\n",
      "  df['debt'][(df['debt']<4e6)] = 2345\n"
     ]
    }
   ],
   "source": [
    "df['debt'][(df['debt']<4e6)] = 2345\n",
    "# npdata = np.array(df['states'][(df['debt']<=4e6)])\\\n",
    "\n",
    "\n"
   ]
  },
  {
   "cell_type": "code",
   "execution_count": 55,
   "metadata": {},
   "outputs": [
    {
     "name": "stdout",
     "output_type": "stream",
     "text": [
      "[0 0 0 0 0 0 0 0]\n",
      "[20  0  0  0  0  0  0  0]\n"
     ]
    }
   ],
   "source": [
    "arr = np.zeros(8).astype(np.int64)\n",
    "print(arr)\n",
    "arr[0] = 20 \n",
    "print(arr)"
   ]
  },
  {
   "cell_type": "code",
   "execution_count": 67,
   "metadata": {},
   "outputs": [
    {
     "data": {
      "text/html": [
       "<div>\n",
       "<style scoped>\n",
       "    .dataframe tbody tr th:only-of-type {\n",
       "        vertical-align: middle;\n",
       "    }\n",
       "\n",
       "    .dataframe tbody tr th {\n",
       "        vertical-align: top;\n",
       "    }\n",
       "\n",
       "    .dataframe thead th {\n",
       "        text-align: right;\n",
       "    }\n",
       "</style>\n",
       "<table border=\"1\" class=\"dataframe\">\n",
       "  <thead>\n",
       "    <tr style=\"text-align: right;\">\n",
       "      <th></th>\n",
       "      <th>states</th>\n",
       "      <th>capital</th>\n",
       "      <th>debt</th>\n",
       "      <th>population</th>\n",
       "    </tr>\n",
       "  </thead>\n",
       "  <tbody>\n",
       "    <tr>\n",
       "      <th>1</th>\n",
       "      <td>Noirville</td>\n",
       "      <td>Shadowhaven</td>\n",
       "      <td>1000000.0</td>\n",
       "      <td>500000.0</td>\n",
       "    </tr>\n",
       "    <tr>\n",
       "      <th>2</th>\n",
       "      <td>Shadowville</td>\n",
       "      <td>Bloodstone</td>\n",
       "      <td>2000000.0</td>\n",
       "      <td>1000000.0</td>\n",
       "    </tr>\n",
       "    <tr>\n",
       "      <th>3</th>\n",
       "      <td>Gotham</td>\n",
       "      <td>Nightshade</td>\n",
       "      <td>3000000.0</td>\n",
       "      <td>1500000.0</td>\n",
       "    </tr>\n",
       "    <tr>\n",
       "      <th>4</th>\n",
       "      <td>Crimsonia</td>\n",
       "      <td>Blackwing</td>\n",
       "      <td>4000000.0</td>\n",
       "      <td>2000000.0</td>\n",
       "    </tr>\n",
       "    <tr>\n",
       "      <th>5</th>\n",
       "      <td>Nightfall</td>\n",
       "      <td>Moonstone</td>\n",
       "      <td>5000000.0</td>\n",
       "      <td>2500000.0</td>\n",
       "    </tr>\n",
       "    <tr>\n",
       "      <th>6</th>\n",
       "      <td>Ravenholm</td>\n",
       "      <td>Aurora</td>\n",
       "      <td>6000000.0</td>\n",
       "      <td>3000000.0</td>\n",
       "    </tr>\n",
       "  </tbody>\n",
       "</table>\n",
       "</div>"
      ],
      "text/plain": [
       "        states      capital       debt  population\n",
       "1    Noirville  Shadowhaven  1000000.0    500000.0\n",
       "2  Shadowville   Bloodstone  2000000.0   1000000.0\n",
       "3       Gotham   Nightshade  3000000.0   1500000.0\n",
       "4    Crimsonia    Blackwing  4000000.0   2000000.0\n",
       "5    Nightfall    Moonstone  5000000.0   2500000.0\n",
       "6    Ravenholm       Aurora  6000000.0   3000000.0"
      ]
     },
     "execution_count": 67,
     "metadata": {},
     "output_type": "execute_result"
    }
   ],
   "source": [
    "df2 = df.reindex(index = np.arange(1,len(df)+1))\n",
    "for i in range(len(df)):\n",
    "    df2.loc[i+1] = df.loc[i]\n",
    "\n",
    "df2z"
   ]
  },
  {
   "attachments": {},
   "cell_type": "markdown",
   "metadata": {},
   "source": [
    "# 6/5/2023"
   ]
  },
  {
   "cell_type": "code",
   "execution_count": 39,
   "metadata": {},
   "outputs": [],
   "source": [
    "import numpy as np\n",
    "import  matplotlib.pyplot as plt\n",
    "from datetime import datetime"
   ]
  },
  {
   "cell_type": "code",
   "execution_count": 52,
   "metadata": {},
   "outputs": [
    {
     "data": {
      "image/png": "[encoded data removed]",
      "text/plain": [
       "<Figure size 640x480 with 1 Axes>"
      ]
     },
     "metadata": {},
     "output_type": "display_data"
    }
   ],
   "source": [
    "# np.random.seed(datetime.now().second + datetime.now().minute + datetime.now().hour)\n",
    "\n",
    "rawarr = np.random.standard_normal(100)\n",
    "steps = np.insert(np.where(rawarr>0,1,-1),0,0)\n",
    "walks = steps.cumsum()\n",
    "plt.plot(walks)\n",
    "plt.show(\"random_walks.svg\")\n"
   ]
  },
  {
   "cell_type": "code",
   "execution_count": 20,
   "metadata": {},
   "outputs": [
    {
     "data": {
      "text/plain": [
       "(1000,)"
      ]
     },
     "execution_count": 20,
     "metadata": {},
     "output_type": "execute_result"
    }
   ],
   "source": [
    "walks.shape"
   ]
  },
  {
   "cell_type": "code",
   "execution_count": 53,
   "metadata": {},
   "outputs": [],
   "source": [
    "import pandas as pd"
   ]
  },
  {
   "cell_type": "code",
   "execution_count": 64,
   "metadata": {},
   "outputs": [
    {
     "data": {
      "text/html": [
       "<div>\n",
       "<style scoped>\n",
       "    .dataframe tbody tr th:only-of-type {\n",
       "        vertical-align: middle;\n",
       "    }\n",
       "\n",
       "    .dataframe tbody tr th {\n",
       "        vertical-align: top;\n",
       "    }\n",
       "\n",
       "    .dataframe thead th {\n",
       "        text-align: right;\n",
       "    }\n",
       "</style>\n",
       "<table border=\"1\" class=\"dataframe\">\n",
       "  <thead>\n",
       "    <tr style=\"text-align: right;\">\n",
       "      <th></th>\n",
       "      <th>states</th>\n",
       "      <th>capital</th>\n",
       "      <th>debt</th>\n",
       "      <th>population</th>\n",
       "    </tr>\n",
       "  </thead>\n",
       "  <tbody>\n",
       "    <tr>\n",
       "      <th>0</th>\n",
       "      <td>Noirville</td>\n",
       "      <td>Shadowhaven</td>\n",
       "      <td>1000000</td>\n",
       "      <td>500000</td>\n",
       "    </tr>\n",
       "    <tr>\n",
       "      <th>1</th>\n",
       "      <td>Shadowville</td>\n",
       "      <td>Bloodstone</td>\n",
       "      <td>2000000</td>\n",
       "      <td>1000000</td>\n",
       "    </tr>\n",
       "    <tr>\n",
       "      <th>2</th>\n",
       "      <td>Gotham</td>\n",
       "      <td>Nightshade</td>\n",
       "      <td>3000000</td>\n",
       "      <td>1500000</td>\n",
       "    </tr>\n",
       "    <tr>\n",
       "      <th>3</th>\n",
       "      <td>Crimsonia</td>\n",
       "      <td>Blackwing</td>\n",
       "      <td>4000000</td>\n",
       "      <td>2000000</td>\n",
       "    </tr>\n",
       "    <tr>\n",
       "      <th>4</th>\n",
       "      <td>Nightfall</td>\n",
       "      <td>Moonstone</td>\n",
       "      <td>5000000</td>\n",
       "      <td>2500000</td>\n",
       "    </tr>\n",
       "    <tr>\n",
       "      <th>5</th>\n",
       "      <td>Ravenholm</td>\n",
       "      <td>Aurora</td>\n",
       "      <td>6000000</td>\n",
       "      <td>3000000</td>\n",
       "    </tr>\n",
       "  </tbody>\n",
       "</table>\n",
       "</div>"
      ],
      "text/plain": [
       "        states      capital     debt  population\n",
       "0    Noirville  Shadowhaven  1000000      500000\n",
       "1  Shadowville   Bloodstone  2000000     1000000\n",
       "2       Gotham   Nightshade  3000000     1500000\n",
       "3    Crimsonia    Blackwing  4000000     2000000\n",
       "4    Nightfall    Moonstone  5000000     2500000\n",
       "5    Ravenholm       Aurora  6000000     3000000"
      ]
     },
     "execution_count": 64,
     "metadata": {},
     "output_type": "execute_result"
    }
   ],
   "source": [
    "data = {\n",
    "    'states': ['Noirville', 'Shadowville', 'Gotham', 'Crimsonia', 'Nightfall', 'Ravenholm'],\n",
    "    'capital': ['Shadowhaven', 'Bloodstone', 'Nightshade', 'Blackwing', 'Moonstone', 'Aurora'],\n",
    "    'debt': [1000000, 2000000, 3000000, 4000000, 5000000, 6000000],\n",
    "    'population': [500000, 1000000, 1500000, 2000000, 2500000, 3000000]\n",
    "}\n",
    "df = pd.DataFrame(data)\n",
    "df"
   ]
  },
  {
   "cell_type": "code",
   "execution_count": 44,
   "metadata": {},
   "outputs": [
    {
     "data": {
      "text/html": [
       "<div>\n",
       "<style scoped>\n",
       "    .dataframe tbody tr th:only-of-type {\n",
       "        vertical-align: middle;\n",
       "    }\n",
       "\n",
       "    .dataframe tbody tr th {\n",
       "        vertical-align: top;\n",
       "    }\n",
       "\n",
       "    .dataframe thead th {\n",
       "        text-align: right;\n",
       "    }\n",
       "</style>\n",
       "<table border=\"1\" class=\"dataframe\">\n",
       "  <thead>\n",
       "    <tr style=\"text-align: right;\">\n",
       "      <th></th>\n",
       "      <th>states</th>\n",
       "      <th>capital</th>\n",
       "      <th>debt</th>\n",
       "      <th>population</th>\n",
       "    </tr>\n",
       "  </thead>\n",
       "  <tbody>\n",
       "    <tr>\n",
       "      <th>0</th>\n",
       "      <td>Noirville</td>\n",
       "      <td>Shadowhaven</td>\n",
       "      <td>1000000</td>\n",
       "      <td>500000</td>\n",
       "    </tr>\n",
       "    <tr>\n",
       "      <th>1</th>\n",
       "      <td>Shadowville</td>\n",
       "      <td>Bloodstone</td>\n",
       "      <td>2000000</td>\n",
       "      <td>1000000</td>\n",
       "    </tr>\n",
       "    <tr>\n",
       "      <th>2</th>\n",
       "      <td>Gotham</td>\n",
       "      <td>Nightshade</td>\n",
       "      <td>3000000</td>\n",
       "      <td>1500000</td>\n",
       "    </tr>\n",
       "    <tr>\n",
       "      <th>3</th>\n",
       "      <td>Crimsonia</td>\n",
       "      <td>Blackwing</td>\n",
       "      <td>4000000</td>\n",
       "      <td>2000000</td>\n",
       "    </tr>\n",
       "  </tbody>\n",
       "</table>\n",
       "</div>"
      ],
      "text/plain": [
       "        states      capital     debt  population\n",
       "0    Noirville  Shadowhaven  1000000      500000\n",
       "1  Shadowville   Bloodstone  2000000     1000000\n",
       "2       Gotham   Nightshade  3000000     1500000\n",
       "3    Crimsonia    Blackwing  4000000     2000000"
      ]
     },
     "execution_count": 44,
     "metadata": {},
     "output_type": "execute_result"
    }
   ],
   "source": [
    "# df.reindex(index = list(df.index[df['debt']<=4e6]))\n",
    "\n",
    "# df.index[df['debt']<=4e6]\n",
    "df2 = df.drop(index = df.index[df['debt']>4e6])\n",
    "\n",
    "df2"
   ]
  },
  {
   "cell_type": "code",
   "execution_count": 2,
   "metadata": {},
   "outputs": [],
   "source": [
    "import sys\n",
    "import numpy as np"
   ]
  },
  {
   "cell_type": "code",
   "execution_count": 76,
   "metadata": {},
   "outputs": [
    {
     "data": {
      "text/plain": [
       "176"
      ]
     },
     "execution_count": 76,
     "metadata": {},
     "output_type": "execute_result"
    }
   ],
   "source": [
    "sys.getsizeof(np.array([1,2,3,4,5,6,7,8]))\n"
   ]
  }
 ],
 "metadata": {
  "kernelspec": {
   "display_name": "aiml",
   "language": "python",
   "name": "python3"
  },
  "language_info": {
   "codemirror_mode": {
    "name": "ipython",
    "version": 3
   },
   "file_extension": ".py",
   "mimetype": "text/x-python",
   "name": "python",
   "nbconvert_exporter": "python",
   "pygments_lexer": "ipython3",
   "version": "3.10.6"
  },
  "orig_nbformat": 4
 },
 "nbformat": 4,
 "nbformat_minor": 2
}
