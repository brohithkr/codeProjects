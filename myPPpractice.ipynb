{
 "cells": [
  {
   "attachments": {},
   "cell_type": "markdown",
   "metadata": {},
   "source": [
    "## OLD"
   ]
  },
  {
   "cell_type": "code",
   "execution_count": 2,
   "metadata": {},
   "outputs": [
    {
     "name": "stdout",
     "output_type": "stream",
     "text": [
      "[[4 5 6]]\n"
     ]
    }
   ],
   "source": [
    "import numpy as np\n",
    "\n",
    "arr = np.array([2,3,4,5,6,7,8])\n",
    "arr2 = np.array([[1,2,3],[4,5,6],[7,8,9],[2,3,5]])\n",
    "arrnames = np.array(['harry','jack','rose','lily'])\n",
    "\n",
    "print(arr2[arrnames == 'jack' ])\n",
    "\n"
   ]
  },
  {
   "cell_type": "code",
   "execution_count": 32,
   "metadata": {},
   "outputs": [
    {
     "name": "stdout",
     "output_type": "stream",
     "text": [
      "[[1 4 7]\n",
      " [2 5 8]\n",
      " [3 6 9]] \n",
      " [[1 2 3]\n",
      " [4 5 6]\n",
      " [7 8 9]]\n",
      "[[ 66  78  90]\n",
      " [ 78  93 108]\n",
      " [ 90 108 126]]\n"
     ]
    }
   ],
   "source": [
    "import numpy as np\n",
    "\n",
    "arr = np.array([2,3,4,5,6,7,8])\n",
    "arr2 = np.array([[1,2,3],[4,5,6],[7,8,9],[2,3,5]])\n",
    "arr3 = np.array([[1,2,3],[4,5,6],[7,8,9]])\n",
    "print(arr3.T,\"\\n\",arr3)\n",
    "\n",
    "print(arr3.T @ arr3)\n",
    "\n"
   ]
  },
  {
   "cell_type": "code",
   "execution_count": 5,
   "metadata": {},
   "outputs": [
    {
     "name": "stdout",
     "output_type": "stream",
     "text": [
      "(array([1]),)\n"
     ]
    }
   ],
   "source": [
    "import numpy as np\n",
    "\n",
    "arr1 = np.array([[1, 2, 3],[2,3,4]])\n",
    "\n",
    "arr2 = np.array([[4, 5, 6],[3,4,5]])\n",
    "\n",
    "arr = np.concatenate((arr1, arr2))\n",
    "ju\n",
    "print(np.where(arr2[0]==5))"
   ]
  },
  {
   "cell_type": "code",
   "execution_count": 8,
   "metadata": {},
   "outputs": [
    {
     "name": "stdout",
     "output_type": "stream",
     "text": [
      "[[1 3 4]\n",
      " [2 4 5]]\n"
     ]
    }
   ],
   "source": [
    "import numpy as np\n",
    "\n",
    "arr1 = np.array([[1, 4, 3],[2,5,4]])\n",
    "\n",
    "arr2 = np.array([[4, 5, 6],[3,4,5]])\n",
    "\n",
    "print(np.sort(arr1))"
   ]
  },
  {
   "attachments": {},
   "cell_type": "markdown",
   "metadata": {},
   "source": [
    "## 26/04/2023"
   ]
  },
  {
   "cell_type": "code",
   "execution_count": 22,
   "metadata": {},
   "outputs": [
    {
     "name": "stdout",
     "output_type": "stream",
     "text": [
      "[array([[0.  , 0.25, 0.5 , 0.75],\n",
      "       [0.  , 0.25, 0.5 , 0.75],\n",
      "       [0.  , 0.25, 0.5 , 0.75],\n",
      "       [0.  , 0.25, 0.5 , 0.75]]), array([[0.  , 0.  , 0.  , 0.  ],\n",
      "       [0.25, 0.25, 0.25, 0.25],\n",
      "       [0.5 , 0.5 , 0.5 , 0.5 ],\n",
      "       [0.75, 0.75, 0.75, 0.75]])]\n"
     ]
    }
   ],
   "source": [
    "import numpy as np\n",
    "\n",
    "points = np.arange(0,1,0.25)\n",
    "print(np.meshgrid(points,points))\n",
    "np.savez(\"testarray\",points,points)"
   ]
  },
  {
   "cell_type": "code",
   "execution_count": null,
   "metadata": {},
   "outputs": [],
   "source": []
  }
 ],
 "metadata": {
  "kernelspec": {
   "display_name": "aiml",
   "language": "python",
   "name": "python3"
  },
  "language_info": {
   "codemirror_mode": {
    "name": "ipython",
    "version": 3
   },
   "file_extension": ".py",
   "mimetype": "text/x-python",
   "name": "python",
   "nbconvert_exporter": "python",
   "pygments_lexer": "ipython3",
   "version": "3.10.6"
  },
  "orig_nbformat": 4
 },
 "nbformat": 4,
 "nbformat_minor": 2
}
