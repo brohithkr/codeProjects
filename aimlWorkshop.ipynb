{
  "cells": [
    {
      "cell_type": "markdown",
      "metadata": {
        "colab_type": "text",
        "id": "view-in-github"
      },
      "source": [
        "<a href=\"https://colab.research.google.com/github/brohithkr/codeProjects/blob/main/aimlWorkshop.ipynb\" target=\"_parent\"><img src=\"https://colab.research.google.com/assets/colab-badge.svg\" alt=\"Open In Colab\"/></a>"
      ]
    },
    {
      "cell_type": "code",
      "execution_count": 4,
      "metadata": {
        "id": "ZMoZTds43Dkw"
      },
      "outputs": [],
      "source": [
        "import pandas as pd\n",
        "import numpy as np"
      ]
    },
    {
      "cell_type": "code",
      "execution_count": null,
      "metadata": {},
      "outputs": [],
      "source": [
        "data = pd.read_csv(\"car_data.csv\")"
      ]
    },
    {
      "cell_type": "code",
      "execution_count": 29,
      "metadata": {},
      "outputs": [
        {
          "data": {
            "text/plain": [
              "0      <class 'str'>\n",
              "1      <class 'str'>\n",
              "3      <class 'str'>\n",
              "4      <class 'str'>\n",
              "6      <class 'str'>\n",
              "           ...      \n",
              "887    <class 'str'>\n",
              "888    <class 'str'>\n",
              "889    <class 'str'>\n",
              "890    <class 'str'>\n",
              "891    <class 'str'>\n",
              "Name: Price, Length: 857, dtype: object"
            ]
          },
          "execution_count": 29,
          "metadata": {},
          "output_type": "execute_result"
        }
      ],
      "source": [
        "prices = data['Price']\n",
        "notnumbool = []\n",
        "totsum = 0\n",
        "for s in range(len(prices)):\n",
        "    temp = \"\"\n",
        "    tempbool = False\n",
        "    prices[s] = prices[s].strip()\n",
        "    for c in prices[s]:\n",
        "        if c.isdigit():\n",
        "            temp += c\n",
        "        elif c!=\",\" and c!=\" \":\n",
        "            tempbool = True\n",
        "    if temp != \"\":\n",
        "        prices[s] = int(temp)\n",
        "\n",
        "\n",
        "    # prices[s] = prices[s]\n",
        "    notnumbool.append(tempbool)\n",
        "npnotnumbool = np.array(notnumbool)\n",
        "for i in range(len(prices)):\n",
        "    prices[i] = int(prices[i])\n",
        "# prices[~npnotnumbool]"
      ]
    }
  ],
  "metadata": {
    "colab": {
      "authorship_tag": "ABX9TyNXWPsKGncGPH/QZoNxh48A",
      "include_colab_link": true,
      "provenance": []
    },
    "kernelspec": {
      "display_name": "Python 3",
      "name": "python3"
    },
    "language_info": {
      "codemirror_mode": {
        "name": "ipython",
        "version": 3
      },
      "file_extension": ".py",
      "mimetype": "text/x-python",
      "name": "python",
      "nbconvert_exporter": "python",
      "pygments_lexer": "ipython3",
      "version": "3.10.6"
    }
  },
  "nbformat": 4,
  "nbformat_minor": 0
}
