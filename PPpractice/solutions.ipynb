{
 "cells": [
  {
   "attachments": {},
   "cell_type": "markdown",
   "metadata": {},
   "source": [
    "# 1.Candy Game "
   ]
  },
  {
   "cell_type": "code",
   "execution_count": 5,
   "metadata": {},
   "outputs": [
    {
     "name": "stdout",
     "output_type": "stream",
     "text": [
      "5\n"
     ]
    }
   ],
   "source": [
    "s = input()\n",
    "nof4 = 0\n",
    "for i in s:\n",
    "    if i =='4':\n",
    "        nof4+=1\n",
    "print(nof4)"
   ]
  },
  {
   "attachments": {},
   "cell_type": "markdown",
   "metadata": {},
   "source": [
    "# 2.Team Event "
   ]
  },
  {
   "cell_type": "code",
   "execution_count": 7,
   "metadata": {},
   "outputs": [
    {
     "name": "stdout",
     "output_type": "stream",
     "text": [
      "4\n"
     ]
    }
   ],
   "source": [
    "s = input()\n",
    "if int(s) > 10:\n",
    "    print((int(s[-1]))-int(s[0]))\n",
    "else:\n",
    "    print(\"Invalid Input\")"
   ]
  },
  {
   "attachments": {},
   "cell_type": "markdown",
   "metadata": {},
   "source": [
    "# 3.Lucky Pairs "
   ]
  },
  {
   "cell_type": "code",
   "execution_count": 10,
   "metadata": {},
   "outputs": [
    {
     "name": "stdout",
     "output_type": "stream",
     "text": [
      "16\n"
     ]
    }
   ],
   "source": [
    "a,b,n = map(int,input().split(' '))\n",
    "t = 1\n",
    "while(t<=n):\n",
    "    if(t%2==1):\n",
    "        a*=2\n",
    "    else:\n",
    "        b*=2\n",
    "    t+=1\n",
    "print(a+b)"
   ]
  },
  {
   "attachments": {},
   "cell_type": "markdown",
   "metadata": {},
   "source": [
    "# 4.Cookery Contest"
   ]
  },
  {
   "cell_type": "code",
   "execution_count": 11,
   "metadata": {},
   "outputs": [
    {
     "name": "stdout",
     "output_type": "stream",
     "text": [
      "3 2\n"
     ]
    }
   ],
   "source": [
    "n = int(input())\n",
    "l = list(map(int,input().split(' ')))\n",
    "ne=0\n",
    "no=0\n",
    "for i in l:\n",
    "    if i%2==0:\n",
    "        ne+=1\n",
    "    elif i%2==1:\n",
    "        no+=1\n",
    "print(no,ne)"
   ]
  },
  {
   "attachments": {},
   "cell_type": "markdown",
   "metadata": {},
   "source": [
    "# 6.New Administrative Policy "
   ]
  },
  {
   "cell_type": "code",
   "execution_count": 14,
   "metadata": {},
   "outputs": [
    {
     "name": "stdout",
     "output_type": "stream",
     "text": [
      "all positions change in year 2004\n",
      "all positions change in year 2064\n"
     ]
    }
   ],
   "source": [
    "x = int(input())\n",
    "y = int(input())\n",
    "for i in range(x,y+1):\n",
    "    if (i-x)%4==0 and (i-x)%2==0 and (i-x)%3==0 and (i-x)%5==0:\n",
    "        print(f'all positions change in year {i}')"
   ]
  },
  {
   "cell_type": "code",
   "execution_count": 33,
   "metadata": {},
   "outputs": [
    {
     "ename": "KeyboardInterrupt",
     "evalue": "",
     "output_type": "error",
     "traceback": [
      "\u001b[0;31m---------------------------------------------------------------------------\u001b[0m",
      "\u001b[0;31mKeyboardInterrupt\u001b[0m                         Traceback (most recent call last)",
      "Cell \u001b[0;32mIn[33], line 19\u001b[0m\n\u001b[1;32m     16\u001b[0m         nfoplays\u001b[39m+\u001b[39m\u001b[39m=\u001b[39m\u001b[39m1\u001b[39m\n\u001b[1;32m     17\u001b[0m     \u001b[39mreturn\u001b[39;00m nfoplays\n\u001b[0;32m---> 19\u001b[0m \u001b[39mprint\u001b[39m(till_he_lasts(\u001b[39mint\u001b[39;49m(\u001b[39minput\u001b[39;49m()),\u001b[39mint\u001b[39;49m(\u001b[39minput\u001b[39;49m()),\u001b[39mint\u001b[39;49m(\u001b[39minput\u001b[39;49m()),\u001b[39mint\u001b[39;49m(\u001b[39minput\u001b[39;49m())))\n",
      "Cell \u001b[0;32mIn[33], line 3\u001b[0m, in \u001b[0;36mtill_he_lasts\u001b[0;34m(money, c1, c2, c3)\u001b[0m\n\u001b[1;32m      1\u001b[0m \u001b[39mdef\u001b[39;00m \u001b[39mtill_he_lasts\u001b[39m(money,c1,c2,c3):\n\u001b[1;32m      2\u001b[0m     nfoplays \u001b[39m=\u001b[39m \u001b[39m0\u001b[39m\n\u001b[0;32m----> 3\u001b[0m     \u001b[39mwhile\u001b[39;00m(money\u001b[39m>\u001b[39m\u001b[39m0\u001b[39m):\n\u001b[1;32m      4\u001b[0m         c1\u001b[39m+\u001b[39m\u001b[39m=\u001b[39m\u001b[39m1\u001b[39m\n\u001b[1;32m      5\u001b[0m         c2\u001b[39m+\u001b[39m\u001b[39m=\u001b[39m\u001b[39m1\u001b[39m\n",
      "\u001b[0;31mKeyboardInterrupt\u001b[0m: "
     ]
    }
   ],
   "source": [
    "def till_he_lasts(money,c1,c2,c3):\n",
    "    nfoplays = 0\n",
    "    while(money>0):\n",
    "        c1+=1\n",
    "        c2+=1\n",
    "        c3+=1\n",
    "        money-=1\n",
    "        if money<0:\n",
    "            break\n",
    "        if c1%25==0:\n",
    "            money+=20\n",
    "        if c2%120==0:\n",
    "            money+=80\n",
    "        if c3%12==0:\n",
    "            money+=8\n",
    "        nfoplays+=1\n",
    "    return nfoplays\n",
    "\n",
    "print(till_he_lasts(int(input()),int(input()),int(input()),int(input())))\n",
    "\n"
   ]
  }
 ],
 "metadata": {
  "kernelspec": {
   "display_name": "Python 3",
   "language": "python",
   "name": "python3"
  },
  "language_info": {
   "codemirror_mode": {
    "name": "ipython",
    "version": 3
   },
   "file_extension": ".py",
   "mimetype": "text/x-python",
   "name": "python",
   "nbconvert_exporter": "python",
   "pygments_lexer": "ipython3",
   "version": "3.10.6"
  },
  "orig_nbformat": 4
 },
 "nbformat": 4,
 "nbformat_minor": 2
}
