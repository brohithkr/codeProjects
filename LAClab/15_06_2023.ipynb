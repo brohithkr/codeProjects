{
 "cells": [
  {
   "cell_type": "code",
   "execution_count": 16,
   "metadata": {},
   "outputs": [
    {
     "name": "stdout",
     "output_type": "stream",
     "text": [
      "[12. 10.] [[ 0.70710678 -0.70710678]\n",
      " [ 0.70710678  0.70710678]]\n"
     ]
    }
   ],
   "source": [
    "a = np.array(\n",
    "    [\n",
    "        [3,-1],\n",
    "        [1,3],\n",
    "        [1,1]\n",
    "    ]\n",
    ")\n",
    "\n",
    "innerProduct = a.T @ a\n",
    "eigval, eigvec = np.linalg.eig(innerProduct)\n",
    "print(eigvec)\n"
   ]
  }
 ],
 "metadata": {
  "language_info": {
   "name": "python"
  },
  "orig_nbformat": 4
 },
 "nbformat": 4,
 "nbformat_minor": 2
}
