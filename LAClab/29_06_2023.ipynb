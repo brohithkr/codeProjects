{
 "cells": [
  {
   "cell_type": "code",
   "execution_count": 11,
   "metadata": {},
   "outputs": [],
   "source": [
    "import numpy as np"
   ]
  },
  {
   "cell_type": "code",
   "execution_count": 12,
   "metadata": {},
   "outputs": [
    {
     "name": "stdout",
     "output_type": "stream",
     "text": [
      "64\n"
     ]
    }
   ],
   "source": [
    "arr = np.array([\n",
    "    [1,2,3],\n",
    "    [4,3,6],\n",
    "    [7,8,1]\n",
    "])\n",
    "determinant = np.linalg.det(arr)\n",
    "print(round(determinant))"
   ]
  },
  {
   "cell_type": "code",
   "execution_count": 9,
   "metadata": {},
   "outputs": [
    {
     "name": "stdout",
     "output_type": "stream",
     "text": [
      "[[-2.   1. ]\n",
      " [ 1.5 -0.5]]\n"
     ]
    }
   ],
   "source": [
    "arr = np.array(\n",
    "    [\n",
    "        [1,2],\n",
    "        [3,4]\n",
    "    ]\n",
    ")\n",
    "print(np.linalg.inv(arr))"
   ]
  },
  {
   "cell_type": "code",
   "execution_count": 14,
   "metadata": {},
   "outputs": [
    {
     "name": "stdout",
     "output_type": "stream",
     "text": [
      "Matrix:  [[1 2]\n",
      " [2 5]]\n",
      "Rank:  2\n"
     ]
    }
   ],
   "source": [
    "M = np.array(\n",
    "    [\n",
    "        [1,2],\n",
    "        [2,4]\n",
    "    ]\n",
    ")\n",
    "\n",
    "print(\"Matrix: \",M)\n",
    "R = np.linalg.matrix_rank(M)\n",
    "print(\"Rank: \",R)"
   ]
  },
  {
   "cell_type": "code",
   "execution_count": 15,
   "metadata": {},
   "outputs": [
    {
     "name": "stdout",
     "output_type": "stream",
     "text": [
      "[2. 3.]\n"
     ]
    }
   ],
   "source": [
    "A = np.array(\n",
    "    [\n",
    "        [3,1],\n",
    "        [1,2]\n",
    "    ]\n",
    ")\n",
    "B = np.array(\n",
    "    [9,8]\n",
    ")\n",
    "X = np.linalg.solve(A,B)\n",
    "print(X)"
   ]
  },
  {
   "cell_type": "code",
   "execution_count": 23,
   "metadata": {},
   "outputs": [
    {
     "name": "stdout",
     "output_type": "stream",
     "text": [
      "Matrix([[8, -8, -2], [4, -3, -2], [3, -4, 1]])\n",
      "Eigen Value : 1\n",
      "Eigen Vector :\n",
      " [Matrix([\n",
      "[  2],\n",
      "[3/2],\n",
      "[  1]])]\n",
      "Eigen Value : 2\n",
      "Eigen Vector :\n",
      " [Matrix([\n",
      "[3],\n",
      "[2],\n",
      "[1]])]\n",
      "Eigen Value : 3\n",
      "Eigen Vector :\n",
      " [Matrix([\n",
      "[2],\n",
      "[1],\n",
      "[1]])]\n"
     ]
    }
   ],
   "source": [
    "import sympy as sp\n",
    "mat=sp.Matrix([[8,-8,-2],[4,-3,-2],[3,-4,1]])\n",
    "print(mat)\n",
    "eigen=mat.eigenvects()\n",
    "for i in range(3):\n",
    "    print(\"Eigen Value :\",eigen[i][0])\n",
    "    print(\"Eigen Vector :\\n\",eigen[i][2])"
   ]
  },
  {
   "cell_type": "code",
   "execution_count": 22,
   "metadata": {},
   "outputs": [
    {
     "name": "stdout",
     "output_type": "stream",
     "text": [
      "[1. 3. 2.]\n",
      "[[-0.74278135 -0.81649658 -0.80178373]\n",
      " [-0.55708601 -0.40824829 -0.53452248]\n",
      " [-0.37139068 -0.40824829 -0.26726124]]\n"
     ]
    }
   ],
   "source": [
    "arr = np.array([[8,-8,-2],[4,-3,-2],[3,-4,1]])\n",
    "eigenvalues, eigenvectors = np.linalg.eig(arr)\n",
    "print(eigenvalues)\n",
    "print(eigenvectors)"
   ]
  },
  {
   "cell_type": "code",
   "execution_count": 1,
   "metadata": {},
   "outputs": [],
   "source": [
    "import numpy as np"
   ]
  },
  {
   "cell_type": "code",
   "execution_count": 13,
   "metadata": {},
   "outputs": [
    {
     "name": "stdout",
     "output_type": "stream",
     "text": [
      "[3. 2. 1.]\n",
      "[[ 5.77350269e-01 -7.07106781e-01  3.33333333e-01]\n",
      " [ 5.77350269e-01 -7.07106781e-01  6.66666667e-01]\n",
      " [ 5.77350269e-01 -2.36493141e-15 -6.66666667e-01]]\n",
      "[[1. 0. 0.]\n",
      " [0. 2. 0.]\n",
      " [0. 0. 3.]]\n"
     ]
    }
   ],
   "source": [
    "arr = np.array(\n",
    "    [\n",
    "        [1,1,1],\n",
    "        [0,2,1],\n",
    "        [-4,4,3]\n",
    "    ]\n",
    ")\n",
    "eigval, eigvec = np.linalg.eig(arr)\n",
    "print(eigval)\n",
    "print(eigvec)\n",
    "Q = eigvec.T\n",
    "P = np.array([[-1/2,-1,1],[1,1,0],[1,1,1]]).T\n",
    "Pinv = np.linalg.inv(P)\n",
    "print(Pinv@arr@P)\n"
   ]
  },
  {
   "cell_type": "code",
   "execution_count": 53,
   "metadata": {},
   "outputs": [
    {
     "name": "stdout",
     "output_type": "stream",
     "text": [
      "Matrix\n",
      " [[1 1 1]\n",
      " [0 2 1]\n",
      " [-4 4 3]]\n",
      "EigenValues = 1\n",
      "Eigenvectors = Matrix([[-1/2], [-1], [1]])\n",
      "EigenValues = 2\n",
      "Eigenvectors = Matrix([[1], [1], [0]])\n",
      "EigenValues = 3\n",
      "Eigenvectors = Matrix([[1], [1], [1]])\n",
      "Modal Matrix\n",
      " [[-0.5  1.   1. ]\n",
      " [-1.   1.   1. ]\n",
      " [ 1.   0.   1. ]]\n",
      "Inverse of Modal Matrix\n",
      " [[ 2. -2. -0.]\n",
      " [ 4. -3. -1.]\n",
      " [-2.  2.  1.]]\n",
      "Diagonal Matrix\n",
      " [[1. 0. 0.]\n",
      " [0. 2. 0.]\n",
      " [0. 0. 3.]]\n"
     ]
    }
   ],
   "source": [
    "import sympy as sp\n",
    "import numpy as np\n",
    "A = sp.Matrix(\n",
    "    [\n",
    "        [1,1,1],\n",
    "        [0,2,1],\n",
    "        [-4,4,3]\n",
    "    ]\n",
    ")\n",
    "eigen = A.eigenvects()\n",
    "A = np.array(A)\n",
    "print(\"Matrix\\n\",A)\n",
    "P = np.zeros((3,3))\n",
    "for  i in range(len(eigen)):\n",
    "    print(\"EigenValues =\",eigen[i][0])\n",
    "    print(\"Eigenvectors =\",eigen[i][2][0])\n",
    "    P[i] = np.array(list(eigen[i][2][0].reshape(3,1)))\n",
    "P = P.T\n",
    "print(\"Modal Matrix\\n\",P)\n",
    "Pinv = np.linalg.inv(P)\n",
    "print(\"Inverse of Modal Matrix\\n\",Pinv)\n",
    "diagonal_matrix = (Pinv.dot(A).dot(P)).astype(float)\n",
    "print(\"Diagonal Matrix\\n\",diagonal_matrix)\n"
   ]
  },
  {
   "cell_type": "code",
   "execution_count": 51,
   "metadata": {},
   "outputs": [
    {
     "name": "stdout",
     "output_type": "stream",
     "text": [
      "[(1, 1, [Matrix([\n",
      "[-1/2],\n",
      "[  -1],\n",
      "[   1]])]), (2, 1, [Matrix([\n",
      "[1],\n",
      "[1],\n",
      "[0]])]), (3, 1, [Matrix([\n",
      "[1],\n",
      "[1],\n",
      "[1]])])]\n"
     ]
    }
   ],
   "source": []
  }
 ],
 "metadata": {
  "kernelspec": {
   "display_name": "aimlw",
   "language": "python",
   "name": "python3"
  },
  "language_info": {
   "codemirror_mode": {
    "name": "ipython",
    "version": 3
   },
   "file_extension": ".py",
   "mimetype": "text/x-python",
   "name": "python",
   "nbconvert_exporter": "python",
   "pygments_lexer": "ipython3",
   "version": "3.10.8"
  },
  "orig_nbformat": 4
 },
 "nbformat": 4,
 "nbformat_minor": 2
}
