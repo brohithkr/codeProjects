{
 "cells": [
  {
   "cell_type": "code",
   "execution_count": 10,
   "metadata": {},
   "outputs": [],
   "source": [
    "import numpy as np"
   ]
  },
  {
   "cell_type": "code",
   "execution_count": 11,
   "metadata": {},
   "outputs": [
    {
     "name": "stdout",
     "output_type": "stream",
     "text": [
      "64\n"
     ]
    }
   ],
   "source": [
    "arr = np.array([\n",
    "    [1,2,3],\n",
    "    [4,3,6],\n",
    "    [7,8,1]\n",
    "])\n",
    "determinant = np.linalg.det(arr)\n",
    "print(round(determinant))"
   ]
  },
  {
   "cell_type": "code",
   "execution_count": 12,
   "metadata": {},
   "outputs": [
    {
     "name": "stdout",
     "output_type": "stream",
     "text": [
      "[[-2.   1. ]\n",
      " [ 1.5 -0.5]]\n"
     ]
    }
   ],
   "source": [
    "arr = np.array(\n",
    "    [\n",
    "        [1,2],\n",
    "        [3,4]\n",
    "    ]\n",
    ")\n",
    "print(np.linalg.inv(arr))"
   ]
  },
  {
   "cell_type": "code",
   "execution_count": 13,
   "metadata": {},
   "outputs": [
    {
     "name": "stdout",
     "output_type": "stream",
     "text": [
      "Matrix:  [[1 2]\n",
      " [2 4]]\n",
      "Rank:  1\n"
     ]
    }
   ],
   "source": [
    "M = np.array(\n",
    "    [\n",
    "        [1,2],\n",
    "        [2,4]\n",
    "    ]\n",
    ")\n",
    "\n",
    "print(\"Matrix: \",M)\n",
    "R = np.linalg.matrix_rank(M)\n",
    "print(\"Rank: \",R)"
   ]
  },
  {
   "cell_type": "code",
   "execution_count": 14,
   "metadata": {},
   "outputs": [
    {
     "name": "stdout",
     "output_type": "stream",
     "text": [
      "[2. 3.]\n"
     ]
    }
   ],
   "source": [
    "A = np.array(\n",
    "    [\n",
    "        [3,1],\n",
    "        [1,2]\n",
    "    ]\n",
    ")\n",
    "B = np.array(\n",
    "    [9,8]\n",
    ")\n",
    "X = np.linalg.solve(A,B)\n",
    "print(X)"
   ]
  },
  {
   "cell_type": "code",
   "execution_count": 15,
   "metadata": {},
   "outputs": [
    {
     "name": "stdout",
     "output_type": "stream",
     "text": [
      "Matrix([[8, -8, -2], [4, -3, -2], [3, -4, 1]])\n",
      "Eigen Value : 1\n",
      "Eigen Vector :\n",
      " [Matrix([\n",
      "[  2],\n",
      "[3/2],\n",
      "[  1]])]\n",
      "Eigen Value : 2\n",
      "Eigen Vector :\n",
      " [Matrix([\n",
      "[3],\n",
      "[2],\n",
      "[1]])]\n",
      "Eigen Value : 3\n",
      "Eigen Vector :\n",
      " [Matrix([\n",
      "[2],\n",
      "[1],\n",
      "[1]])]\n"
     ]
    }
   ],
   "source": [
    "import sympy as sp\n",
    "mat=sp.Matrix([[8,-8,-2],[4,-3,-2],[3,-4,1]])\n",
    "print(mat)\n",
    "eigen=mat.eigenvects()\n",
    "for i in range(3):\n",
    "    print(\"Eigen Value :\",eigen[i][0])\n",
    "    print(\"Eigen Vector :\\n\",eigen[i][2])"
   ]
  },
  {
   "cell_type": "code",
   "execution_count": 16,
   "metadata": {},
   "outputs": [
    {
     "name": "stdout",
     "output_type": "stream",
     "text": [
      "[1. 3. 2.]\n",
      "[[-0.74278135 -0.81649658 -0.80178373]\n",
      " [-0.55708601 -0.40824829 -0.53452248]\n",
      " [-0.37139068 -0.40824829 -0.26726124]]\n"
     ]
    }
   ],
   "source": [
    "arr = np.array([[8,-8,-2],[4,-3,-2],[3,-4,1]])\n",
    "eigenvalues, eigenvectors = np.linalg.eig(arr)\n",
    "print(eigenvalues)\n",
    "print(eigenvectors)"
   ]
  },
  {
   "cell_type": "code",
   "execution_count": 17,
   "metadata": {},
   "outputs": [],
   "source": [
    "import numpy as np"
   ]
  },
  {
   "cell_type": "code",
   "execution_count": 18,
   "metadata": {},
   "outputs": [
    {
     "name": "stdout",
     "output_type": "stream",
     "text": [
      "[3. 2. 1.]\n",
      "[[ 5.77350269e-01 -7.07106781e-01  3.33333333e-01]\n",
      " [ 5.77350269e-01 -7.07106781e-01  6.66666667e-01]\n",
      " [ 5.77350269e-01 -2.36493141e-15 -6.66666667e-01]]\n",
      "[[1. 0. 0.]\n",
      " [0. 2. 0.]\n",
      " [0. 0. 3.]]\n"
     ]
    }
   ],
   "source": [
    "arr = np.array(\n",
    "    [\n",
    "        [1,1,1],\n",
    "        [0,2,1],\n",
    "        [-4,4,3]\n",
    "    ]\n",
    ")\n",
    "eigval, eigvec = np.linalg.eig(arr)\n",
    "print(eigval)\n",
    "print(eigvec)\n",
    "Q = eigvec.T\n",
    "P = np.array([[-1/2,-1,1],[1,1,0],[1,1,1]]).T\n",
    "Pinv = np.linalg.inv(P)\n",
    "print(Pinv@arr@P)\n"
   ]
  },
  {
   "cell_type": "code",
   "execution_count": 19,
   "metadata": {},
   "outputs": [
    {
     "name": "stdout",
     "output_type": "stream",
     "text": [
      "Matrix\n",
      " [[1 1 1]\n",
      " [0 2 1]\n",
      " [-4 4 3]]\n",
      "EigenValues = 1\n",
      "Eigenvectors = Matrix([[-1/2], [-1], [1]])\n",
      "EigenValues = 2\n",
      "Eigenvectors = Matrix([[1], [1], [0]])\n",
      "EigenValues = 3\n",
      "Eigenvectors = Matrix([[1], [1], [1]])\n",
      "Modal Matrix\n",
      " [[-0.5  1.   1. ]\n",
      " [-1.   1.   1. ]\n",
      " [ 1.   0.   1. ]]\n",
      "Inverse of Modal Matrix\n",
      " [[ 2. -2. -0.]\n",
      " [ 4. -3. -1.]\n",
      " [-2.  2.  1.]]\n",
      "Diagonal Matrix\n",
      " [[1. 0. 0.]\n",
      " [0. 2. 0.]\n",
      " [0. 0. 3.]]\n"
     ]
    }
   ],
   "source": [
    "import sympy as sp\n",
    "import numpy as np\n",
    "A = sp.Matrix(\n",
    "    [\n",
    "        [1,1,1],\n",
    "        [0,2,1],\n",
    "        [-4,4,3]\n",
    "    ]\n",
    ")\n",
    "eigen = A.eigenvects()\n",
    "A = np.array(A)\n",
    "print(\"Matrix\\n\",A)\n",
    "P = np.zeros((3,3))\n",
    "for  i in range(len(eigen)):\n",
    "    print(\"EigenValues =\",eigen[i][0])\n",
    "    print(\"Eigenvectors =\",eigen[i][2][0])\n",
    "    P[i] = np.array(list(eigen[i][2][0].reshape(3,1)))\n",
    "P = P.T\n",
    "print(\"Modal Matrix\\n\",P)\n",
    "Pinv = np.linalg.inv(P)\n",
    "print(\"Inverse of Modal Matrix\\n\",Pinv)\n",
    "diagonal_matrix = (Pinv.dot(A).dot(P)).astype(float)\n",
    "print(\"Diagonal Matrix\\n\",diagonal_matrix)\n"
   ]
  },
  {
   "cell_type": "code",
   "execution_count": 51,
   "metadata": {},
   "outputs": [
    {
     "name": "stdout",
     "output_type": "stream",
     "text": [
      "[(1, 1, [Matrix([\n",
      "[-1/2],\n",
      "[  -1],\n",
      "[   1]])]), (2, 1, [Matrix([\n",
      "[1],\n",
      "[1],\n",
      "[0]])]), (3, 1, [Matrix([\n",
      "[1],\n",
      "[1],\n",
      "[1]])])]\n"
     ]
    }
   ],
   "source": []
  },
  {
   "cell_type": "code",
   "execution_count": 1,
   "metadata": {},
   "outputs": [
    {
     "name": "stdout",
     "output_type": "stream",
     "text": [
      "{1: {'name': 'rohith', 'age': 24}, 2: {'Name': 'kumar', 'age': 25}}\n",
      "1\n",
      "{'name': 'rohith', 'age': 24}\n",
      "{1: {'name': 'rohith', 'age': 24}, 2: {'Name': 'kumar', 'age': 25}}\n"
     ]
    }
   ],
   "source": [
    "import ast\n",
    "estr = '{1:{\"name\":\"rohith\",\"age\":24},2:{\"Name\":\"kumar\",\"age\":25}}'\n",
    "d = ast.literal_eval(estr)\n",
    "print(d)\n",
    "d2 = {}\n",
    "for keys , values in (d.keys(),d.values()):\n",
    "    # for i in values:\n",
    "    #     print(i)\n",
    "    print(keys)\n",
    "print(d)"
   ]
  },
  {
   "cell_type": "code",
   "execution_count": null,
   "metadata": {},
   "outputs": [],
   "source": [
    "def json_serialize(s):\n",
    "    inDict = False\n",
    "    foundColon = False\n",
    "    for i in s:\n",
    "        key = \"\"\n",
    "        value = \"\"\n",
    "        if i==\"{\":\n",
    "            inDict = True\n",
    "        if i==\":\":\n",
    "            foundColon = True\n",
    "        if not foundColon:\n",
    "            key+=i\n",
    "        if foundColon and i!=\":\":\n",
    "            value += i\n",
    "        if i==\"}\" or i==\",\":\n",
    "            if key\n",
    "        if i==\"}\":\n",
    "            inDict = False\n",
    "        \n"
   ]
  },
  {
   "cell_type": "code",
   "execution_count": 6,
   "metadata": {},
   "outputs": [
    {
     "ename": "JSONDecodeError",
     "evalue": "Expecting property name enclosed in double quotes: line 1 column 2 (char 1)",
     "output_type": "error",
     "traceback": [
      "\u001b[1;31m---------------------------------------------------------------------------\u001b[0m",
      "\u001b[1;31mJSONDecodeError\u001b[0m                           Traceback (most recent call last)",
      "Cell \u001b[1;32mIn[6], line 2\u001b[0m\n\u001b[0;32m      1\u001b[0m \u001b[39mimport\u001b[39;00m \u001b[39mjson\u001b[39;00m\n\u001b[1;32m----> 2\u001b[0m d \u001b[39m=\u001b[39m (json\u001b[39m.\u001b[39;49mloads(\u001b[39m'\u001b[39;49m\u001b[39m{\u001b[39;49m\u001b[39m[\u001b[39;49m\u001b[39m{\u001b[39;49m\u001b[39m\"\u001b[39;49m\u001b[39mname\u001b[39;49m\u001b[39m\"\u001b[39;49m\u001b[39m:\u001b[39;49m\u001b[39m\"\u001b[39;49m\u001b[39mrohith\u001b[39;49m\u001b[39m\"\u001b[39;49m\u001b[39m,\u001b[39;49m\u001b[39m\"\u001b[39;49m\u001b[39mage\u001b[39;49m\u001b[39m\"\u001b[39;49m\u001b[39m:24},\u001b[39;49m\u001b[39m{\u001b[39;49m\u001b[39m\"\u001b[39;49m\u001b[39mname\u001b[39;49m\u001b[39m\"\u001b[39;49m\u001b[39m:\u001b[39;49m\u001b[39m\"\u001b[39;49m\u001b[39mkumar\u001b[39;49m\u001b[39m\"\u001b[39;49m\u001b[39m,\u001b[39;49m\u001b[39m\"\u001b[39;49m\u001b[39mage\u001b[39;49m\u001b[39m\"\u001b[39;49m\u001b[39m:25}]}\u001b[39;49m\u001b[39m'\u001b[39;49m))\n",
      "File \u001b[1;32mC:\\Program Files\\WindowsApps\\PythonSoftwareFoundation.Python.3.11_3.11.1264.0_x64__qbz5n2kfra8p0\\Lib\\json\\__init__.py:346\u001b[0m, in \u001b[0;36mloads\u001b[1;34m(s, cls, object_hook, parse_float, parse_int, parse_constant, object_pairs_hook, **kw)\u001b[0m\n\u001b[0;32m    341\u001b[0m     s \u001b[39m=\u001b[39m s\u001b[39m.\u001b[39mdecode(detect_encoding(s), \u001b[39m'\u001b[39m\u001b[39msurrogatepass\u001b[39m\u001b[39m'\u001b[39m)\n\u001b[0;32m    343\u001b[0m \u001b[39mif\u001b[39;00m (\u001b[39mcls\u001b[39m \u001b[39mis\u001b[39;00m \u001b[39mNone\u001b[39;00m \u001b[39mand\u001b[39;00m object_hook \u001b[39mis\u001b[39;00m \u001b[39mNone\u001b[39;00m \u001b[39mand\u001b[39;00m\n\u001b[0;32m    344\u001b[0m         parse_int \u001b[39mis\u001b[39;00m \u001b[39mNone\u001b[39;00m \u001b[39mand\u001b[39;00m parse_float \u001b[39mis\u001b[39;00m \u001b[39mNone\u001b[39;00m \u001b[39mand\u001b[39;00m\n\u001b[0;32m    345\u001b[0m         parse_constant \u001b[39mis\u001b[39;00m \u001b[39mNone\u001b[39;00m \u001b[39mand\u001b[39;00m object_pairs_hook \u001b[39mis\u001b[39;00m \u001b[39mNone\u001b[39;00m \u001b[39mand\u001b[39;00m \u001b[39mnot\u001b[39;00m kw):\n\u001b[1;32m--> 346\u001b[0m     \u001b[39mreturn\u001b[39;00m _default_decoder\u001b[39m.\u001b[39;49mdecode(s)\n\u001b[0;32m    347\u001b[0m \u001b[39mif\u001b[39;00m \u001b[39mcls\u001b[39m \u001b[39mis\u001b[39;00m \u001b[39mNone\u001b[39;00m:\n\u001b[0;32m    348\u001b[0m     \u001b[39mcls\u001b[39m \u001b[39m=\u001b[39m JSONDecoder\n",
      "File \u001b[1;32mC:\\Program Files\\WindowsApps\\PythonSoftwareFoundation.Python.3.11_3.11.1264.0_x64__qbz5n2kfra8p0\\Lib\\json\\decoder.py:337\u001b[0m, in \u001b[0;36mJSONDecoder.decode\u001b[1;34m(self, s, _w)\u001b[0m\n\u001b[0;32m    332\u001b[0m \u001b[39mdef\u001b[39;00m \u001b[39mdecode\u001b[39m(\u001b[39mself\u001b[39m, s, _w\u001b[39m=\u001b[39mWHITESPACE\u001b[39m.\u001b[39mmatch):\n\u001b[0;32m    333\u001b[0m \u001b[39m    \u001b[39m\u001b[39m\"\"\"Return the Python representation of ``s`` (a ``str`` instance\u001b[39;00m\n\u001b[0;32m    334\u001b[0m \u001b[39m    containing a JSON document).\u001b[39;00m\n\u001b[0;32m    335\u001b[0m \n\u001b[0;32m    336\u001b[0m \u001b[39m    \"\"\"\u001b[39;00m\n\u001b[1;32m--> 337\u001b[0m     obj, end \u001b[39m=\u001b[39m \u001b[39mself\u001b[39;49m\u001b[39m.\u001b[39;49mraw_decode(s, idx\u001b[39m=\u001b[39;49m_w(s, \u001b[39m0\u001b[39;49m)\u001b[39m.\u001b[39;49mend())\n\u001b[0;32m    338\u001b[0m     end \u001b[39m=\u001b[39m _w(s, end)\u001b[39m.\u001b[39mend()\n\u001b[0;32m    339\u001b[0m     \u001b[39mif\u001b[39;00m end \u001b[39m!=\u001b[39m \u001b[39mlen\u001b[39m(s):\n",
      "File \u001b[1;32mC:\\Program Files\\WindowsApps\\PythonSoftwareFoundation.Python.3.11_3.11.1264.0_x64__qbz5n2kfra8p0\\Lib\\json\\decoder.py:353\u001b[0m, in \u001b[0;36mJSONDecoder.raw_decode\u001b[1;34m(self, s, idx)\u001b[0m\n\u001b[0;32m    344\u001b[0m \u001b[39m\u001b[39m\u001b[39m\"\"\"Decode a JSON document from ``s`` (a ``str`` beginning with\u001b[39;00m\n\u001b[0;32m    345\u001b[0m \u001b[39ma JSON document) and return a 2-tuple of the Python\u001b[39;00m\n\u001b[0;32m    346\u001b[0m \u001b[39mrepresentation and the index in ``s`` where the document ended.\u001b[39;00m\n\u001b[1;32m   (...)\u001b[0m\n\u001b[0;32m    350\u001b[0m \n\u001b[0;32m    351\u001b[0m \u001b[39m\"\"\"\u001b[39;00m\n\u001b[0;32m    352\u001b[0m \u001b[39mtry\u001b[39;00m:\n\u001b[1;32m--> 353\u001b[0m     obj, end \u001b[39m=\u001b[39m \u001b[39mself\u001b[39;49m\u001b[39m.\u001b[39;49mscan_once(s, idx)\n\u001b[0;32m    354\u001b[0m \u001b[39mexcept\u001b[39;00m \u001b[39mStopIteration\u001b[39;00m \u001b[39mas\u001b[39;00m err:\n\u001b[0;32m    355\u001b[0m     \u001b[39mraise\u001b[39;00m JSONDecodeError(\u001b[39m\"\u001b[39m\u001b[39mExpecting value\u001b[39m\u001b[39m\"\u001b[39m, s, err\u001b[39m.\u001b[39mvalue) \u001b[39mfrom\u001b[39;00m \u001b[39mNone\u001b[39;00m\n",
      "\u001b[1;31mJSONDecodeError\u001b[0m: Expecting property name enclosed in double quotes: line 1 column 2 (char 1)"
     ]
    }
   ],
   "source": [
    "dstr = '{1:{\"name\":\"rohith\",\"age\":24},2:{\"name\":\"kumar\",\"age\":25}}'\n",
    "\n",
    "\n"
   ]
  }
 ],
 "metadata": {
  "kernelspec": {
   "display_name": "aimlw",
   "language": "python",
   "name": "python3"
  },
  "language_info": {
   "codemirror_mode": {
    "name": "ipython",
    "version": 3
   },
   "file_extension": ".py",
   "mimetype": "text/x-python",
   "name": "python",
   "nbconvert_exporter": "python",
   "pygments_lexer": "ipython3",
   "version": "3.11.4"
  },
  "orig_nbformat": 4
 },
 "nbformat": 4,
 "nbformat_minor": 2
}
