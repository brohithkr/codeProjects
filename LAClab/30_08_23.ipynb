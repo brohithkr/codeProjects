{
 "cells": [
  {
   "cell_type": "code",
   "execution_count": 2,
   "metadata": {},
   "outputs": [],
   "source": [
    "import numpy as np\n",
    "import sympy as sp"
   ]
  },
  {
   "cell_type": "code",
   "execution_count": 5,
   "metadata": {},
   "outputs": [
    {
     "name": "stdout",
     "output_type": "stream",
     "text": [
      "\n"
     ]
    }
   ],
   "source": [
    "arr  = np.array([\n",
    "    [1,2],\n",
    "    [3,4]\n",
    "])\n",
    "\n"
   ]
  },
  {
   "cell_type": "code",
   "execution_count": 24,
   "metadata": {},
   "outputs": [
    {
     "name": "stdout",
     "output_type": "stream",
     "text": [
      "[[1. 0. 0.]\n",
      " [0. 2. 0.]\n",
      " [0. 0. 3.]]\n",
      "[[ 1.  1.  1.]\n",
      " [ 0.  2.  1.]\n",
      " [-4.  4.  3.]]\n"
     ]
    }
   ],
   "source": [
    "A=sp.Matrix([[1,1,1],[0,2,1],[-4,4,3]])\n",
    "eign = A.eigenvects()\n",
    "\n",
    "A = np.array(A).astype(float)\n",
    "B = np.array(list(map(lambda x: np.array(x[2][0]).reshape(3,),eign)))\n",
    "P = B.astype(float).T\n",
    "Pinv = np.linalg.inv(P)\n",
    "D = Pinv @ A @ P\n",
    "print(D)\n",
    "print(P @ D @ Pinv)"
   ]
  },
  {
   "cell_type": "code",
   "execution_count": 29,
   "metadata": {},
   "outputs": [
    {
     "name": "stdout",
     "output_type": "stream",
     "text": [
      "[[-0.40505655  0.81808467  0.40824829]\n",
      " [-0.56280062  0.12879749 -0.81649658]\n",
      " [-0.72054469 -0.56048968  0.40824829]] [8.88391679 0.27572182] [[-0.60566683 -0.79571835]\n",
      " [-0.79571835  0.60566683]]\n"
     ]
    }
   ],
   "source": [
    "from scipy.linalg import svd\n",
    "\n",
    "arr = np.array(\n",
    "    [\n",
    "        [2,3],\n",
    "        [3,4],\n",
    "        [4,5]\n",
    "    ]\n",
    ")\n",
    "\n",
    "U, s, VT = svd(arr)\n",
    "print(U, s, VT)"
   ]
  }
 ],
 "metadata": {
  "kernelspec": {
   "display_name": ".venv",
   "language": "python",
   "name": "python3"
  },
  "language_info": {
   "codemirror_mode": {
    "name": "ipython",
    "version": 3
   },
   "file_extension": ".py",
   "mimetype": "text/x-python",
   "name": "python",
   "nbconvert_exporter": "python",
   "pygments_lexer": "ipython3",
   "version": "3.10.12"
  },
  "orig_nbformat": 4
 },
 "nbformat": 4,
 "nbformat_minor": 2
}
