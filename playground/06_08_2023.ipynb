{
 "cells": [
  {
   "cell_type": "code",
   "execution_count": 12,
   "metadata": {},
   "outputs": [],
   "source": [
    "def fun(x):\n",
    "    return x**3\n",
    "\n",
    "def diff(fun,h,x):\n",
    "    return (fun(x+h)-fun(x-h))/2*h"
   ]
  },
  {
   "cell_type": "code",
   "execution_count": 15,
   "metadata": {},
   "outputs": [
    {
     "data": {
      "text/plain": [
       "0.0"
      ]
     },
     "execution_count": 15,
     "metadata": {},
     "output_type": "execute_result"
    }
   ],
   "source": [
    "diff(fun,0.0000000000000001,2)"
   ]
  },
  {
   "cell_type": "code",
   "execution_count": 1,
   "metadata": {},
   "outputs": [],
   "source": [
    "import numpy as np"
   ]
  },
  {
   "cell_type": "code",
   "execution_count": 8,
   "metadata": {},
   "outputs": [
    {
     "ename": "ValueError",
     "evalue": "invalid literal for int() with base 10: 'age'",
     "output_type": "error",
     "traceback": [
      "\u001b[1;31m---------------------------------------------------------------------------\u001b[0m",
      "\u001b[1;31mValueError\u001b[0m                                Traceback (most recent call last)",
      "Cell \u001b[1;32mIn[8], line 3\u001b[0m\n\u001b[0;32m      1\u001b[0m name \u001b[39m=\u001b[39m [\u001b[39m\"\u001b[39m\u001b[39malice\u001b[39m\u001b[39m\"\u001b[39m,\u001b[39m\"\u001b[39m\u001b[39mrock\u001b[39m\u001b[39m\"\u001b[39m,\u001b[39m\"\u001b[39m\u001b[39mjohn\u001b[39m\u001b[39m\"\u001b[39m]\n\u001b[0;32m      2\u001b[0m age \u001b[39m=\u001b[39m [\u001b[39m12\u001b[39m,\u001b[39m24\u001b[39m,\u001b[39m3\u001b[39m]\n\u001b[1;32m----> 3\u001b[0m x \u001b[39m=\u001b[39m np\u001b[39m.\u001b[39;49mzeros(\u001b[39m3\u001b[39;49m,dtype\u001b[39m=\u001b[39;49m{\n\u001b[0;32m      4\u001b[0m     \u001b[39m\"\u001b[39;49m\u001b[39mname\u001b[39;49m\u001b[39m\"\u001b[39;49m: (\u001b[39m\"\u001b[39;49m\u001b[39mname\u001b[39;49m\u001b[39m\"\u001b[39;49m,\u001b[39m\"\u001b[39;49m\u001b[39mage\u001b[39;49m\u001b[39m\"\u001b[39;49m),\n\u001b[0;32m      5\u001b[0m     \u001b[39m\"\u001b[39;49m\u001b[39mformat\u001b[39;49m\u001b[39m\"\u001b[39;49m: (\u001b[39m\"\u001b[39;49m\u001b[39mU10\u001b[39;49m\u001b[39m\"\u001b[39;49m,\u001b[39m\"\u001b[39;49m\u001b[39mi4\u001b[39;49m\u001b[39m\"\u001b[39;49m)\n\u001b[0;32m      6\u001b[0m })\n\u001b[0;32m      8\u001b[0m \u001b[39mprint\u001b[39m(x)\n",
      "File \u001b[1;32mc:\\Users\\brohi\\Documents\\aienv\\Lib\\site-packages\\numpy\\core\\_internal.py:62\u001b[0m, in \u001b[0;36m_usefields\u001b[1;34m(adict, align)\u001b[0m\n\u001b[0;32m     60\u001b[0m     names \u001b[39m=\u001b[39m \u001b[39mNone\u001b[39;00m\n\u001b[0;32m     61\u001b[0m \u001b[39mif\u001b[39;00m names \u001b[39mis\u001b[39;00m \u001b[39mNone\u001b[39;00m:\n\u001b[1;32m---> 62\u001b[0m     names, formats, offsets, titles \u001b[39m=\u001b[39m _makenames_list(adict, align)\n\u001b[0;32m     63\u001b[0m \u001b[39melse\u001b[39;00m:\n\u001b[0;32m     64\u001b[0m     formats \u001b[39m=\u001b[39m []\n",
      "File \u001b[1;32mc:\\Users\\brohi\\Documents\\aienv\\Lib\\site-packages\\numpy\\core\\_internal.py:35\u001b[0m, in \u001b[0;36m_makenames_list\u001b[1;34m(adict, align)\u001b[0m\n\u001b[0;32m     33\u001b[0m \u001b[39mif\u001b[39;00m n \u001b[39m>\u001b[39m \u001b[39m2\u001b[39m \u001b[39mand\u001b[39;00m obj[\u001b[39m2\u001b[39m] \u001b[39m==\u001b[39m fname:\n\u001b[0;32m     34\u001b[0m     \u001b[39mcontinue\u001b[39;00m\n\u001b[1;32m---> 35\u001b[0m num \u001b[39m=\u001b[39m \u001b[39mint\u001b[39;49m(obj[\u001b[39m1\u001b[39;49m])\n\u001b[0;32m     36\u001b[0m \u001b[39mif\u001b[39;00m num \u001b[39m<\u001b[39m \u001b[39m0\u001b[39m:\n\u001b[0;32m     37\u001b[0m     \u001b[39mraise\u001b[39;00m \u001b[39mValueError\u001b[39;00m(\u001b[39m\"\u001b[39m\u001b[39minvalid offset.\u001b[39m\u001b[39m\"\u001b[39m)\n",
      "\u001b[1;31mValueError\u001b[0m: invalid literal for int() with base 10: 'age'"
     ]
    }
   ],
   "source": [
    "name = [\"alice\",\"rock\",\"john\"]\n",
    "age = [12,24,3]\n",
    "x = np.zeros(3,dtype={\n",
    "    \"name\": (\"name\",\"age\"),\n",
    "    \"format\": (\"U10\",\"i4\")\n",
    "})\n",
    "\n",
    "print(x)"
   ]
  }
 ],
 "metadata": {
  "kernelspec": {
   "display_name": "aienv",
   "language": "python",
   "name": "python3"
  },
  "language_info": {
   "codemirror_mode": {
    "name": "ipython",
    "version": 3
   },
   "file_extension": ".py",
   "mimetype": "text/x-python",
   "name": "python",
   "nbconvert_exporter": "python",
   "pygments_lexer": "ipython3",
   "version": "3.11.4"
  },
  "orig_nbformat": 4
 },
 "nbformat": 4,
 "nbformat_minor": 2
}
