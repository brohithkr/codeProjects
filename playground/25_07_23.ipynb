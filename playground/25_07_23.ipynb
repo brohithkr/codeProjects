{
 "cells": [
  {
   "cell_type": "code",
   "execution_count": 1,
   "metadata": {},
   "outputs": [],
   "source": [
    "import numpy as np"
   ]
  },
  {
   "cell_type": "code",
   "execution_count": 2,
   "metadata": {},
   "outputs": [
    {
     "name": "stdout",
     "output_type": "stream",
     "text": [
      "1\n"
     ]
    }
   ],
   "source": [
    "arr = np.array([1,2,3,4,5])\n",
    "print(arr.ndim)"
   ]
  },
  {
   "cell_type": "code",
   "execution_count": 52,
   "metadata": {},
   "outputs": [
    {
     "name": "stdout",
     "output_type": "stream",
     "text": [
      "8\n"
     ]
    }
   ],
   "source": [
    "np.random.seed(0)\n",
    "a = np.random.randint(10,size = 6)\n",
    "print(a.astype('float64').itemsize)"
   ]
  },
  {
   "cell_type": "code",
   "execution_count": 53,
   "metadata": {},
   "outputs": [
    {
     "name": "stdout",
     "output_type": "stream",
     "text": [
      "[[100 100 100 100 100 100 100 100 100 100]\n",
      " [100 100 100 100 100 100 100 100 100 100]\n",
      " [100 100 100 100 100 100 100 100 100 100]\n",
      " [100 100 100 100 100 100 100 100 100 100]]\n"
     ]
    }
   ],
   "source": [
    "a = np.array([[100 for _ in range(10)] for _ in range(4)])\n",
    "\n",
    "print(a)"
   ]
  },
  {
   "cell_type": "code",
   "execution_count": 65,
   "metadata": {},
   "outputs": [],
   "source": [
    "def middlesquare(arr):\n",
    "    m,n = arr.shape[0], arr.shape[1]\n",
    "    return arr[m//2 - 1:m//2+1, n//2-1 : n//2+1]\n",
    "    \n"
   ]
  },
  {
   "cell_type": "code",
   "execution_count": 55,
   "metadata": {},
   "outputs": [
    {
     "name": "stdout",
     "output_type": "stream",
     "text": [
      "int32\n",
      "3\n",
      "4\n",
      "720\n"
     ]
    }
   ],
   "source": [
    "a1 = np.random.randint(100,size=(10,3,6))\n",
    "print(a1.dtype)\n",
    "print(a1.ndim)\n",
    "print(a1.itemsize)\n",
    "print(a1.nbytes)"
   ]
  },
  {
   "cell_type": "code",
   "execution_count": 56,
   "metadata": {},
   "outputs": [
    {
     "name": "stdout",
     "output_type": "stream",
     "text": [
      "int32\n",
      "3\n",
      "4\n",
      "720\n"
     ]
    }
   ],
   "source": [
    "a2 = np.random.randint(100,size=(6,100,300))\n",
    "print(a1.dtype)\n",
    "print(a1.ndim)\n",
    "print(a1.itemsize)\n",
    "print(a1.nbytes)"
   ]
  },
  {
   "cell_type": "code",
   "execution_count": 57,
   "metadata": {},
   "outputs": [
    {
     "name": "stdout",
     "output_type": "stream",
     "text": [
      "int32\n",
      "3\n",
      "4\n",
      "384000000\n"
     ]
    },
    {
     "data": {
      "text/plain": [
       "(5,)"
      ]
     },
     "execution_count": 57,
     "metadata": {},
     "output_type": "execute_result"
    }
   ],
   "source": [
    "a3 = np.random.randint(100,size=(400,300,800))\n",
    "print(a3.dtype)\n",
    "print(a3.ndim)\n",
    "print(a3.itemsize)\n",
    "print(a3.nbytes)\n",
    "arr.shape"
   ]
  },
  {
   "cell_type": "code",
   "execution_count": 3,
   "metadata": {},
   "outputs": [
    {
     "name": "stdout",
     "output_type": "stream",
     "text": [
      "int32\n",
      "2\n",
      "4\n",
      "64\n",
      "[[69 47 39 43]\n",
      " [53  6 97  2]\n",
      " [96 88 79 85]\n",
      " [45  3 38 95]]\n",
      "[[ 6 97]\n",
      " [88 79]]\n"
     ]
    },
    {
     "ename": "NameError",
     "evalue": "name 'middlesquare' is not defined",
     "output_type": "error",
     "traceback": [
      "\u001b[1;31m---------------------------------------------------------------------------\u001b[0m",
      "\u001b[1;31mNameError\u001b[0m                                 Traceback (most recent call last)",
      "Cell \u001b[1;32mIn[3], line 8\u001b[0m\n\u001b[0;32m      6\u001b[0m \u001b[39mprint\u001b[39m(a4)\n\u001b[0;32m      7\u001b[0m \u001b[39mprint\u001b[39m(a4[\u001b[39m1\u001b[39m:\u001b[39m3\u001b[39m,\u001b[39m1\u001b[39m:\u001b[39m3\u001b[39m])\n\u001b[1;32m----> 8\u001b[0m \u001b[39mprint\u001b[39m(middlesquare(a4))\n",
      "\u001b[1;31mNameError\u001b[0m: name 'middlesquare' is not defined"
     ]
    }
   ],
   "source": [
    "a4 = np.random.randint(100,size=(4,4))\n",
    "print(a4.dtype)\n",
    "print(a4.ndim)\n",
    "print(a4.itemsize)\n",
    "print(a4.nbytes)\n",
    "print(a4)\n",
    "print(a4[1:3,1:3])\n",
    "print(middlesquare(a4))"
   ]
  },
  {
   "cell_type": "code",
   "execution_count": 5,
   "metadata": {},
   "outputs": [
    {
     "name": "stdout",
     "output_type": "stream",
     "text": [
      "16\n"
     ]
    }
   ],
   "source": [
    "print(a4.size)"
   ]
  },
  {
   "cell_type": "code",
   "execution_count": 10,
   "metadata": {},
   "outputs": [
    {
     "data": {
      "text/plain": [
       "4"
      ]
     },
     "execution_count": 10,
     "metadata": {},
     "output_type": "execute_result"
    }
   ],
   "source": [
    "arr = np.array(['a','b','c','d','e','f','g','h','i','j','k','l','m','n'])\n",
    "arr.itemsize"
   ]
  }
 ],
 "metadata": {
  "kernelspec": {
   "display_name": "aienv",
   "language": "python",
   "name": "python3"
  },
  "language_info": {
   "codemirror_mode": {
    "name": "ipython",
    "version": 3
   },
   "file_extension": ".py",
   "mimetype": "text/x-python",
   "name": "python",
   "nbconvert_exporter": "python",
   "pygments_lexer": "ipython3",
   "version": "3.11.4"
  },
  "orig_nbformat": 4
 },
 "nbformat": 4,
 "nbformat_minor": 2
}
