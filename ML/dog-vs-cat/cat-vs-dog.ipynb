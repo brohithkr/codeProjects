{
 "cells": [
  {
   "cell_type": "code",
   "execution_count": null,
   "metadata": {},
   "outputs": [],
   "source": [
    "from sklearn.neighbors import KNeighborsClassifier\n",
    "from sklearn.preprocessing import LabelEncoder\n",
    "from sklearn.model_selection import train_test_split\n",
    "from sklearn.metrics import classification_report\n",
    "from imutils import paths\n",
    "import pickle\n",
    "from .image_loaders import *\n"
   ]
  },
  {
   "cell_type": "code",
   "execution_count": null,
   "metadata": {},
   "outputs": [],
   "source": [
    "pp = PreProcessor(32, 32)\n",
    "\n",
    "lst = [\n",
    "    \"/home/rohith/Pictures/Attorney-jusrtice-book.webp\",\n",
    "    \"/home/rohith/Pictures/advocate.jpg\",\n",
    "]\n",
    "\n",
    "loader = ImageLoader()\n",
    "\n",
    "labels, data = loader.load(lst)\n"
   ]
  }
 ],
 "metadata": {
  "kernelspec": {
   "display_name": ".venvl",
   "language": "python",
   "name": "python3"
  },
  "language_info": {
   "name": "python",
   "version": "3.11.6"
  }
 },
 "nbformat": 4,
 "nbformat_minor": 2
}
