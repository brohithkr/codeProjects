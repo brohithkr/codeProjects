{
 "cells": [
  {
   "cell_type": "code",
   "execution_count": 3,
   "metadata": {},
   "outputs": [],
   "source": [
    "import pandas as pd\n",
    "import numpy as np\n",
    "import matplotlib.pyplot as plt"
   ]
  },
  {
   "cell_type": "code",
   "execution_count": 4,
   "metadata": {},
   "outputs": [
    {
     "name": "stdout",
     "output_type": "stream",
     "text": [
      "0    False\n",
      "1    False\n",
      "2    False\n",
      "3     True\n",
      "4     True\n",
      "5     True\n",
      "6     True\n",
      "7     True\n",
      "8     True\n",
      "9     True\n",
      "dtype: bool\n"
     ]
    }
   ],
   "source": [
    "arr = [1,2,3,4,5,6]\n",
    "nparr = np.arange(10,30,2).astype(np.float64)\n",
    "nparr2 = nparr.astype(np.string_)\n",
    "s = pd.Series(nparr)\n",
    "# s[s==12] = 0\n",
    "print(s>=16)"
   ]
  },
  {
   "cell_type": "code",
   "execution_count": 5,
   "metadata": {},
   "outputs": [
    {
     "data": {
      "text/plain": [
       "6     12\n",
       "7     14\n",
       "8     16\n",
       "9     18\n",
       "10    20\n",
       "11    22\n",
       "12    24\n",
       "13    26\n",
       "14    28\n",
       "Name: evens, dtype: int64"
      ]
     },
     "execution_count": 5,
     "metadata": {},
     "output_type": "execute_result"
    }
   ],
   "source": [
    "nums = np.arange(30)\n",
    "\n",
    "evens = nums[nums%2==0]\n",
    "odds  = nums[nums%2==1]\n",
    "# print(evens)\n",
    "\n",
    "df = pd.DataFrame({\n",
    "    'evens' : evens,\n",
    "    'odds' : odds\n",
    "})\n",
    "\n",
    "df['evens'][df['evens']>10]"
   ]
  },
  {
   "cell_type": "code",
   "execution_count": 6,
   "metadata": {},
   "outputs": [],
   "source": [
    "data = {\n",
    "    'states':['Agrabah','Arendelle','Corona','DunBroch','Enchancia','Genovia'],\n",
    "    'capital':['Zarbadast','Elsaabad','Rapunzelgarh','Meridapura','Sofia Nagar','Mia Town'],\n",
    "    'population' : [1234567,2345678,3456789,4567890,5678901,6789012],\n",
    "    'debt':[12345,23456,34567,45678,56789,67890]\n",
    "}\n",
    "df = pd.DataFrame(data)\n",
    "df.index = np.arange(1,7,1)"
   ]
  },
  {
   "cell_type": "code",
   "execution_count": 10,
   "metadata": {},
   "outputs": [
    {
     "data": {
      "text/plain": [
       "1    1234567\n",
       "2    2345678\n",
       "6    6789012\n",
       "Name: population, dtype: int64"
      ]
     },
     "execution_count": 10,
     "metadata": {},
     "output_type": "execute_result"
    }
   ],
   "source": [
    "pop = df['population']\n",
    "\n",
    "boolarr = [True,True,False,False,False,True]\n",
    "pop[boolarr]"
   ]
  },
  {
   "cell_type": "code",
   "execution_count": null,
   "metadata": {},
   "outputs": [],
   "source": [
    "newData = {\n",
    "    \"states\": [\"Noxville\", \"Crimsonia\", \"Shadowland\", \"Midnightia\", \"Obscuria\", \"Eclipseville\"],\n",
    "    \"population\": [500000, 750000, 300000, 900000, 400000, 600000],\n",
    "    \"debt\": [1000000, 500000, 2000000, 1500000, 800000, 1200000],\n",
    "    \"capital\": [\"Nightshade\", \"Bloodhaven\", \"Darkhaven\", \"Moonlight\", \"Misthaven\", \"Eclipsia\"]\n",
    "}"
   ]
  }
 ],
 "metadata": {
  "kernelspec": {
   "display_name": "aiml",
   "language": "python",
   "name": "python3"
  },
  "language_info": {
   "codemirror_mode": {
    "name": "ipython",
    "version": 3
   },
   "file_extension": ".py",
   "mimetype": "text/x-python",
   "name": "python",
   "nbconvert_exporter": "python",
   "pygments_lexer": "ipython3",
   "version": "3.10.6"
  },
  "orig_nbformat": 4
 },
 "nbformat": 4,
 "nbformat_minor": 2
}
